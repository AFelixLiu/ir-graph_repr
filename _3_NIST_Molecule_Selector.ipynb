{
 "cells": [
  {
   "cell_type": "code",
   "metadata": {
    "ExecuteTime": {
     "end_time": "2024-07-28T15:18:19.275013Z",
     "start_time": "2024-07-28T15:18:18.825084Z"
    }
   },
   "source": [
    "import numpy as np\n",
    "import pandas as pd\n",
    "\n",
    "from rdkit import Chem\n",
    "from tqdm import tqdm"
   ],
   "outputs": [],
   "execution_count": 1
  },
  {
   "cell_type": "code",
   "metadata": {
    "ExecuteTime": {
     "end_time": "2024-07-28T15:19:09.620536Z",
     "start_time": "2024-07-28T15:18:19.277087Z"
    }
   },
   "source": [
    "raw_data = pd.read_csv(\"NIST Gaseous IR Dataset.csv\")\n",
    "smiles = np.array(raw_data[\"SMILES\"])\n",
    "sequences = np.zeros((8362, 1586))\n",
    "for i in range(1586):\n",
    "  current_col = raw_data[str(i)]\n",
    "  for x in range(8362):\n",
    "    sequences[x][i] = current_col[x]"
   ],
   "outputs": [],
   "execution_count": 2
  },
  {
   "cell_type": "code",
   "metadata": {
    "ExecuteTime": {
     "end_time": "2024-07-28T15:19:09.651709Z",
     "start_time": "2024-07-28T15:19:09.623922Z"
    }
   },
   "source": [
    "def not_organic(sm):\n",
    "    \"\"\"\n",
    "    Exclude compounds that do not contain at least one C-H bond\n",
    "    \"\"\"\n",
    "    # 从给定的 SMILES 表达式创建分子对象\n",
    "    molecule = Chem.MolFromSmiles(sm)\n",
    "    # 为分子添加氢原子\n",
    "    molecule = Chem.AddHs(molecule)\n",
    "    # 遍历分子中的原子\n",
    "    for atom in molecule.GetAtoms():\n",
    "        # 如果原子的原子序数为 6（即碳元素）\n",
    "        if atom.GetAtomicNum() == 6:\n",
    "            # 遍历该碳原子的相邻原子\n",
    "            for neb in atom.GetNeighbors():\n",
    "                # 如果相邻原子的原子序数为 1（即氢元素），返回 False，表示存在 C-H 键\n",
    "                if neb.GetAtomicNum() == 1:\n",
    "                    return False\n",
    "    # 如果遍历完所有碳原子都没有找到相邻的氢原子，返回 True，表示不存在 C-H 键\n",
    "    return True\n",
    "\n",
    "def has_charged_center(sm):\n",
    "    \"\"\"\n",
    "    Exclude compounds with formal charges.\n",
    "    \"\"\"\n",
    "    return True if \"+\" in sm or \"-\" in sm else False\n",
    "\n",
    "def too_big(sm):\n",
    "    \"\"\"\n",
    "    Exclude compounds containing more than 25 non-hydrogen atoms.\n",
    "    \"\"\"\n",
    "    # 从给定的 SMILES 表达式创建分子对象\n",
    "    molecule = Chem.MolFromSmiles(sm)\n",
    "    # 判断分子中的非氢原子数量是否大于等于 25\n",
    "    return True if molecule.GetNumAtoms() >= 25 else False\n",
    "\n",
    "too_big(\"[H]C([H])([H])S(=O)C([H])([H])[H]\")"
   ],
   "outputs": [
    {
     "data": {
      "text/plain": [
       "False"
      ]
     },
     "execution_count": 3,
     "metadata": {},
     "output_type": "execute_result"
    }
   ],
   "execution_count": 3
  },
  {
   "cell_type": "code",
   "metadata": {
    "ExecuteTime": {
     "end_time": "2024-07-28T15:19:13.113337Z",
     "start_time": "2024-07-28T15:19:09.654726Z"
    }
   },
   "source": [
    "good_indices = []\n",
    "num_charged, num_too_big, num_not_organic = 0, 0, 0\n",
    "for sm in tqdm(range(len(smiles))):\n",
    "\n",
    "    if not_organic(smiles[sm]) :\n",
    "        num_not_organic += 1\n",
    "        continue\n",
    "    \n",
    "    if has_charged_center(smiles[sm]):\n",
    "        num_charged += 1\n",
    "        continue\n",
    "        \n",
    "    if too_big(smiles[sm]):\n",
    "        num_too_big += 1 \n",
    "        continue\n",
    "    \n",
    "    good_indices.append(sm)"
   ],
   "outputs": [
    {
     "name": "stderr",
     "output_type": "stream",
     "text": [
      "100%|██████████| 8362/8362 [00:03<00:00, 2450.66it/s]\n"
     ]
    }
   ],
   "execution_count": 4
  },
  {
   "cell_type": "code",
   "metadata": {
    "ExecuteTime": {
     "end_time": "2024-07-28T15:19:13.129Z",
     "start_time": "2024-07-28T15:19:13.116336Z"
    }
   },
   "source": [
    "print(\"Started with:\", len(smiles), \"samples, ended with:\", len(good_indices), \"samples\")\n",
    "print(num_not_organic, \"weren't organic.\")\n",
    "print(num_charged, \"had charged centers.\")\n",
    "print(num_too_big, \"were too large.\")"
   ],
   "outputs": [
    {
     "name": "stdout",
     "output_type": "stream",
     "text": [
      "Started with: 8362 samples, ended with: 7506 samples\n",
      "96 weren't organic.\n",
      "649 had charged centers.\n",
      "111 were too large.\n"
     ]
    }
   ],
   "execution_count": 5
  },
  {
   "cell_type": "code",
   "metadata": {
    "ExecuteTime": {
     "end_time": "2024-07-28T15:19:13.408405Z",
     "start_time": "2024-07-28T15:19:13.132841Z"
    }
   },
   "source": [
    "import pickle\n",
    "data = {}\n",
    "data[\"smiles\"] = smiles[good_indices]\n",
    "data[\"sequences\"] = sequences[good_indices]\n",
    "with open(\"Cleaner NIST Dataset.pickle\", \"wb+\") as f:\n",
    "    pickle.dump(data, f)"
   ],
   "outputs": [],
   "execution_count": 6
  },
  {
   "metadata": {
    "ExecuteTime": {
     "end_time": "2024-07-28T15:19:13.423952Z",
     "start_time": "2024-07-28T15:19:13.410595Z"
    }
   },
   "cell_type": "code",
   "source": "",
   "outputs": [],
   "execution_count": 6
  }
 ],
 "metadata": {
  "kernelspec": {
   "display_name": "Python 3.7.12 ('chem_env')",
   "language": "python",
   "name": "python3"
  },
  "language_info": {
   "codemirror_mode": {
    "name": "ipython",
    "version": 3
   },
   "file_extension": ".py",
   "mimetype": "text/x-python",
   "name": "python",
   "nbconvert_exporter": "python",
   "pygments_lexer": "ipython3",
   "version": "3.7.12"
  },
  "metadata": {
   "interpreter": {
    "hash": "fb3e69b1849fbe3db38258675c90eca9b4601c3e4a5f4e71200d2f3e80de7811"
   }
  },
  "orig_nbformat": 2,
  "vscode": {
   "interpreter": {
    "hash": "6a85bb36b4d52f187ae5fc4e581c8672140292eb6cb1dd51f2266bc987f5b6ae"
   }
  }
 },
 "nbformat": 4,
 "nbformat_minor": 2
}
