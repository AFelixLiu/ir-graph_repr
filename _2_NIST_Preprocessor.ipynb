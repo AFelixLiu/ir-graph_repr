{
 "cells": [
  {
   "cell_type": "code",
   "metadata": {
    "ExecuteTime": {
     "end_time": "2024-07-28T14:59:17.555695Z",
     "start_time": "2024-07-28T14:59:16.543356Z"
    }
   },
   "source": [
    "import matplotlib.pyplot as plt\n",
    "import numpy as np\n",
    "import os\n",
    "import pandas as pd\n",
    "\n",
    "from jcamp import jcamp_readfile, jcamp_calc_xsec\n",
    "from rdkit import Chem\n",
    "from scipy.interpolate import interp1d\n",
    "from tqdm import tqdm"
   ],
   "outputs": [],
   "execution_count": 1
  },
  {
   "cell_type": "code",
   "metadata": {
    "ExecuteTime": {
     "end_time": "2024-07-28T14:59:17.570993Z",
     "start_time": "2024-07-28T14:59:17.557872Z"
    }
   },
   "source": [
    "PATH = \"jdx\"\n",
    "SMILES = []\n",
    "spectra = []"
   ],
   "outputs": [],
   "execution_count": 2
  },
  {
   "metadata": {
    "ExecuteTime": {
     "end_time": "2024-07-28T14:59:17.586824Z",
     "start_time": "2024-07-28T14:59:17.571977Z"
    }
   },
   "cell_type": "code",
   "source": [
    "def extremum(JDX_PATH):\n",
    "    \"\"\"\n",
    "    Find extremum in JDX file:\n",
    "    * _x_begin_max is the maximum value at the left end of the X-axis of all spectral data\n",
    "    * _x_end_min is the minimum value at the right end of the X-axis for all spectral data\n",
    "    \"\"\"\n",
    "    print('Looking for extremum in JDX file...')\n",
    "    _x_begin_max, _x_end_min, sign = None, None, False\n",
    "    for file in tqdm(os.listdir(JDX_PATH)):\n",
    "        try:\n",
    "            _spectrum = jcamp_readfile(JDX_PATH + \"/\" + file)\n",
    "            try:\n",
    "                if _spectrum[\"state\"] != \"gas\" and _spectrum['state'] != \"GAS\":\n",
    "                    continue\n",
    "                jcamp_calc_xsec(_spectrum, skip_nonquant=False)\n",
    "            except:\n",
    "                continue\n",
    "\n",
    "            x = _spectrum['wavenumbers']\n",
    "            if _spectrum['xunits'].lower() in ('1/cm', 'cm-1', 'cm^-1'):\n",
    "                pass\n",
    "            elif _spectrum['xunits'].lower() in ('micrometers', 'um', 'wavelength (um)'):\n",
    "                x = x[::-1]\n",
    "            elif _spectrum['xunits'].lower() in ('nanometers', 'nm', 'wavelength (nm)'):\n",
    "                x = x[::-1]\n",
    "\n",
    "            if _spectrum['yunits'].lower() == 'transmittance':\n",
    "                y = _spectrum['absorbance']\n",
    "            elif _spectrum['yunits'].lower() == 'absorbance':\n",
    "                y = _spectrum['y']\n",
    "            elif _spectrum['yunits'].lower() == '(micromol/mol)-1m-1 (base 10)':\n",
    "                continue\n",
    "        except:\n",
    "            continue\n",
    "\n",
    "        if type(y) != np.ndarray:\n",
    "            continue\n",
    "\n",
    "        _mol_file = \"mol/\" + file[:-7] + \".mol\"\n",
    "        _mol = Chem.MolFromMolFile(_mol_file)\n",
    "        try:\n",
    "            _sm = Chem.MolToSmiles(_mol)\n",
    "        except:\n",
    "            continue\n",
    "\n",
    "        if _sm != \"\":\n",
    "            if not sign:\n",
    "                sign = True\n",
    "                _x_begin_max = x[0]\n",
    "                _x_end_min = x[-1]\n",
    "            else:\n",
    "                _x_begin_max = _x_begin_max if _x_begin_max > x[0] else x[0]\n",
    "                _x_end_min = _x_end_min if _x_end_min < x[-1] else x[-1]\n",
    "    \n",
    "    print('_x_begin_max: ' + str(_x_begin_max) + ', _x_end_min: ' + str(_x_end_min))\n",
    "    \n",
    "    return _x_begin_max, _x_end_min"
   ],
   "outputs": [],
   "execution_count": 3
  },
  {
   "metadata": {
    "ExecuteTime": {
     "end_time": "2024-07-28T14:59:17.602823Z",
     "start_time": "2024-07-28T14:59:17.588830Z"
    }
   },
   "cell_type": "code",
   "source": [
    "def closest(myList, myNumber):\n",
    "    \"\"\"\n",
    "    Find num in list closest to mynum, used in preprocess.\n",
    "    \"\"\"\n",
    "    from bisect import bisect_left\n",
    "    pos = bisect_left(myList, myNumber)\n",
    "    if pos == 0:\n",
    "        return myList[0]\n",
    "    if pos == len(myList):\n",
    "        return myList[-1]\n",
    "    before = myList[pos - 1]\n",
    "    after = myList[pos]\n",
    "    if after - myNumber < myNumber - before:\n",
    "       return after\n",
    "    else:\n",
    "       return before\n",
    "\n",
    "def process_file(filename, begin, end):\n",
    "    \"\"\"\n",
    "    Convert spectrum units to wavenumbers (x) and absorbance (y), and interpolate any missing coordinates, then return a list of absorbance.\n",
    "    \"\"\"\n",
    "    # TODO: ask if nitrogen dilution matters at all\n",
    "    # MIN: begin, MAX: end, increments of 2\n",
    "    spectrum = jcamp_readfile(filename)\n",
    "    try:\n",
    "        if spectrum[\"state\"] != \"gas\" and spectrum['state'] != \"GAS\":\n",
    "            return False\n",
    "        jcamp_calc_xsec(spectrum, skip_nonquant = False)\n",
    "    except:\n",
    "        return False\n",
    "    \n",
    "    x = spectrum['wavenumbers']\n",
    "    if spectrum['xunits'].lower() in ('1/cm', 'cm-1', 'cm^-1'):\n",
    "        pass\n",
    "    elif spectrum['xunits'].lower() in ('micrometers', 'um', 'wavelength (um)'):\n",
    "        x = x[::-1]\n",
    "    elif spectrum['xunits'].lower() in ('nanometers', 'nm', 'wavelength (nm)'):\n",
    "        x = x[::-1]\n",
    "    \n",
    "    if spectrum['yunits'].lower() == 'transmittance':\n",
    "        y = spectrum['absorbance']\n",
    "    elif spectrum['yunits'].lower() == 'absorbance':\n",
    "        y = spectrum['y']\n",
    "    elif spectrum['yunits'].lower() == '(micromol/mol)-1m-1 (base 10)':\n",
    "        return\n",
    "    \n",
    "    # Define the desired wave number range\n",
    "    x_new = np.arange(begin, end+1, 2)\n",
    "\n",
    "    # Interpolate the absorbance values\n",
    "    f = interp1d(x, y, kind='slinear', bounds_error=False, fill_value=\"extrapolate\")\n",
    "    y_new = f(x_new)\n",
    "\n",
    "    return y_new\n",
    "    # plt.plot()\n",
    "\n",
    "def why_bad(filename):\n",
    "    spectrum = jcamp_readfile(filename)\n",
    "    try:\n",
    "        jcamp_calc_xsec(spectrum, skip_nonquant = False)\n",
    "        if spectrum[\"state\"] != \"gas\" and spectrum['state'] != \"GAS\":\n",
    "            return spectrum[\"state\"]\n",
    "    except:\n",
    "        return \"Couldn't read file\"\n",
    "    pass"
   ],
   "outputs": [],
   "execution_count": 4
  },
  {
   "cell_type": "code",
   "metadata": {
    "ExecuteTime": {
     "end_time": "2024-07-28T15:03:49.146672Z",
     "start_time": "2024-07-28T14:59:17.605824Z"
    }
   },
   "source": [
    "bad, reason_bad = 0, []\n",
    "x_begin_max, x_end_min = extremum(PATH)\n",
    "print(\"------ ------ ------ ------ ------ ------\")\n",
    "print(\"Preprocessing spectrum...\")\n",
    "for spectra_file in tqdm(os.listdir(PATH)):\n",
    "    try:\n",
    "         absorbance = process_file(PATH + \"/\" + spectra_file, x_begin_max, x_end_min)\n",
    "    except:\n",
    "        bad += 1\n",
    "        continue\n",
    "    \n",
    "    if type(absorbance) != np.ndarray:\n",
    "        reason_bad.append(why_bad(PATH + \"/\" + spectra_file))\n",
    "        continue\n",
    "    \n",
    "    # Get the smiles out of the mol using rdkit\n",
    "    mol_file = \"mol/\" + spectra_file[:-7] + \".mol\"\n",
    "    mol = Chem.MolFromMolFile(mol_file)\n",
    "    try:\n",
    "        sm = Chem.MolToSmiles(mol)\n",
    "    except:\n",
    "        continue  \n",
    "    \n",
    "    if sm != \"\":\n",
    "        \"\"\"\n",
    "        spectra: Save all correctly processed spectral data\n",
    "        SMILES: Save the molecular structure of the spectrum\n",
    "        \"\"\"\n",
    "        spectra.append(absorbance)\n",
    "        SMILES.append(sm)\n",
    "\n",
    "spectra = np.array(spectra)"
   ],
   "outputs": [
    {
     "name": "stdout",
     "output_type": "stream",
     "text": [
      "Looking for extremum in JDX file...\n"
     ]
    },
    {
     "name": "stderr",
     "output_type": "stream",
     "text": [
      " 28%|██▊       | 4471/16121 [01:06<02:52, 67.55it/s] [23:00:23] Warning: ambiguous stereochemistry - opposing bonds have opposite wedging - at atom 6 ignored.\n",
      "[23:00:23] Warning: ambiguous stereochemistry - opposing bonds have opposite wedging - at atom 6 ignored.\n",
      " 60%|██████    | 9673/16121 [01:57<00:27, 235.75it/s][23:01:15] Explicit valence for atom # 0 N, 5, is greater than permitted\n",
      " 85%|████████▌ | 13704/16121 [02:14<00:10, 228.30it/s][23:01:32] Explicit valence for atom # 0 N, 4, is greater than permitted\n",
      "100%|██████████| 16121/16121 [02:25<00:00, 111.14it/s]\n"
     ]
    },
    {
     "name": "stdout",
     "output_type": "stream",
     "text": [
      "_x_begin_max: 628.2038395818676, _x_end_min: 3798.05\n",
      "------ ------ ------ ------ ------ ------\n",
      "Preprocessing spectrum...\n"
     ]
    },
    {
     "name": "stderr",
     "output_type": "stream",
     "text": [
      " 28%|██▊       | 4470/16121 [00:40<01:31, 127.99it/s][23:02:23] Warning: ambiguous stereochemistry - opposing bonds have opposite wedging - at atom 6 ignored.\n",
      "[23:02:23] Warning: ambiguous stereochemistry - opposing bonds have opposite wedging - at atom 6 ignored.\n",
      " 60%|██████    | 9690/16121 [01:18<00:49, 129.87it/s][23:03:00] Explicit valence for atom # 0 N, 5, is greater than permitted\n",
      " 85%|████████▌ | 13718/16121 [01:47<00:16, 143.21it/s][23:03:30] Explicit valence for atom # 0 N, 4, is greater than permitted\n",
      "100%|██████████| 16121/16121 [02:06<00:00, 127.56it/s]\n"
     ]
    }
   ],
   "execution_count": 5
  },
  {
   "cell_type": "code",
   "metadata": {
    "ExecuteTime": {
     "end_time": "2024-07-28T15:03:49.162191Z",
     "start_time": "2024-07-28T15:03:49.148671Z"
    }
   },
   "source": [
    "print(bad, \"files couldn't be processed at all.\")\n",
    "from collections import Counter\n",
    "print(Counter(reason_bad))"
   ],
   "outputs": [
    {
     "name": "stdout",
     "output_type": "stream",
     "text": [
      "1 files couldn't be processed at all.\n",
      "Counter({\"Couldn't read file\": 2384, 'LIQUID': 338, 'SOLID (KBr PELLET)': 312, 'SOLID (1 mg / 650 mg KBr DISC)': 292, 'SOLID (KBr DISC)': 280, 'SOLID (SPLIT MULL), FLUOROLUBE FOR 3800-1330 CM^-^1, NUJOL FOR 1330-400 CM^-^1': 257, 'SOLID (NUJOL MULL)': 200, 'SOLID (OIL MULL)': 194, 'SOLID (SPLIT MULL)': 188, 'SOLID (MINERAL OIL MULL)': 167, 'SOLUTION (10% CCl4 FOR 5000-1330, 10% CS2 FOR 1330-625 CM^-^1)': 155, 'LIQUID (NEAT)': 135, 'SOLID (0.8 mg / 650 mg KBr DISC)': 102, 'SOLID (1.0% IN KBr PELLET)': 92, 'SOLUTION (10% CCl4 FOR 3800-1330, 10% CS2 FOR 1330-400 CM^-^1)': 77, 'SOLID (KBr PRESSING)': 66, 'SOLID (SPLIT MULL), FLUOROLUBE FOR 3800-1330 CM^-^1, NUJOL FOR 1330-450 CM^-^1': 66, 'SOLID (SPLIT MULL), FLUOROLUBE FOR 3800-1330 CM^-^1, NUJOL FOR 1330-460 CM^-^1': 62, 'SOLUTION (10% IN CCl4 FOR 5000-1350 CM^-^1, 10% IN CS2 FOR 1350-625 CM^-^1)': 59, 'SOLUTION (10% CCl4 FOR 2.7-7.5, 10% CS2 FOR 7.5-26 MICRON) VS SOLVENT': 51, 'SOLID (0.9 mg / 650 mg KBr DISC)': 50, 'SOLUTION (7% IN CHCl3)': 49, 'SOLID (MULL)': 48, 'SOLID (KBr DISC, 0.8% WT.)': 39, 'SOLID (0.7 mg / 650 mg KBr DISC)': 36, 'SOLID (PELLET)': 34, 'SOLID (0.7 mg / 500 mg KBr DISC)': 34, 'SOLID (KBr DISC, 0.9% WT.)': 33, 'SOLUTION (10% CCl4 FOR 2.5-7.5, 10% CS2 FOR 7.5-16 MICRON)': 32, 'SOLUTION (10% CCl4 FOR 3800-1330, 10% CS2 FOR 1330-450 CM^-^1)': 30, 'SOLID (0.6 mg / 650 mg KBr DISC)': 29, 'SOLID (SPLIT MULL), FLUOROLUBE FOR 4000-1340 CM^-^1, NUJOL FOR 1340-400 CM^-^1': 27, 'SOLUTION (7% CHCl3)': 26, 'SOLID (1.0 mg / 650 mg KBr DISC)': 25, 'SOLID (1.5 mg / 100 mg KBr)': 23, 'SOLUTION 7% (CHCl3 FOR 2.5-12.5 microns)': 23, 'SOLUTION (10% CCl4 FOR 3800-1330, 10% CS2 FOR 1330-460 CM^-^1)': 23, 'SOLUTION (10% CCl4 FOR 5000-1300, 10% CS2 FOR 1300-625 CM^-^1)': 22, 'SOLID (BETWEEN SALTS)': 18, 'SOLID (NUJOL AND FLUOROLUBE MULLS)': 17, 'SOLID (SPLIT MULL), FLUOROLUBE FOR 3800-1330 CM^-^1, NUJOL FOR 1330-470 CM^-^1': 16, 'SOLID (SPLIT MULL), FLUOROLUBE FOR 3800-1335 CM^-^1, NUJOL FOR 1335-400 CM^-^1': 16, 'SOLID': 15, 'SOLID (0.5 mg / 650 mg KBr DISC)': 15, 'SOLUTION (7% CHCl3) VS SOLVENT': 15, 'SOLUTION (10% CCl4 FOR 2.7-7.5, CS2 FOR 7.5-26 MICRON) VS SOLVENT': 15, 'SOLID (SPLIT MULL, FLUOROLUBE FOR 3800-1330 AND NUJOL FOR 1330-400 CM ^-^1)': 15, 'SOLID (MELT)': 15, 'SOLID (1 mg / 200 mg KBr DISC)': 14, 'SOLUTION 7% (CS2 FOR 7.5-15 microns, AND CCl4 FOR 2.5-7.5 microns)': 14, 'SOLID (1 mg / 500 mg KBr DISC)': 14, 'SOLUTION (10% CCl4 FOR 3800-1330, 10% CS2 FOR 1330-400 CM^-^1) VS SOLVENT': 14, 'SOLID (0.5 mg / 300 mg CsI DISC)': 13, 'SOLUTION (10% CCl4 FOR 3800-1300, 2% CS2 FOR 1300-650, AND 10% CCl4 FOR 650-250)': 13, 'SOLUTION (7% CHCl3 FOR 2.5-12.5 MICRON) VS SOLVENT': 12, 'SOLID (KBr WAFER)': 11, 'SOLID (KBr DISC) VS KBr': 11, 'SOLUTION (10% CCl4 FOR 3800-1340, 10% CS2 FOR 1340-450 CM^-^1)': 11, 'SOLUTION (10% CCl4 FOR 3800-1335, 10% CS2 FOR 1335-400 CM^-^1)': 11, '(NEAT)': 11, 'SOLUTION (10% CCl4 FOR 2.5-7.5, 10% CS2 FOR 7.5-15 MICRON)': 10, 'SOLUTION (10% IN CCl4 FOR 3800-1330, 10% IN CS2 FOR 1330-400 CM^-^1)': 10, 'SOLID (0.5% IN KBr PELLET)': 9, 'SOLID (1.2 mg / 250 mg KBr DISC)': 9, 'SOLID (1 mg / 200 mg KCl DISC) VS KCl': 9, 'SOLUTION 7% (CHCl3 FOR 2.5-15 microns)': 9, 'SOLUTION (10% IN CCl4 FOR 4000-1330, 10% IN CS2 FOR 1330-420 CM^-^1) VS. SOLVENT': 9, 'SOLUTION (10% CCl4 FOR 3800-1340, 10% CS2 FOR 1340-400 CM^-^1)': 9, 'GAS (100 mmHg, N2 ADDED, TOTAL PRESSURE 600 mmHg)': 9, 'SOLUTION (10% CS2 FOR 5000-2380 AND 1390-625, 10% C2Cl4 FOR 2380-1390 CM^-^1)': 9, 'SOLUTION (10% CCl4 FOR 2.5-7.5, 10% CS2 FOR 7.5-16 MICRONS)': 9, 'SOLID (KCl DISC) VS KCl': 8, 'SOLID (0.4 mg / 650 mg KBr DISC)': 8, 'SOLUTION (10% CCl4 FOR 3800-1330, 10% CS2 FOR 1330-400)': 8, 'SOLUTION (10% IN CCl4 FOR 3800-1333, 10% IN CS2 FOR 1333-450 CM^-^1)': 8, 'SOLID (1.8 mg / 100 mg KBr)': 8, 'GAS (50 mmHg, N2 ADDED, TOTAL PRESSURE 600 mmHg)': 8, 'SOLID (1 mg / 200 mg KBr DISC) VS KBr': 8, 'SOLUTION (10% CHCl3)': 8, 'SOLID (1.6 mg / 200 mg KBr)': 8, 'SOLID (MULL IN COCONITRILE OIL)': 7, 'SOLID (0.3 mg / 300 mg CsI DISC)': 7, 'SOLUTION (0.2M IN CHCl3)': 7, 'SOLUTION (10% CCl4 FOR 3800-1330, 10% CS2 FOR 1330-460 CM^-^1) VS SOLVENT': 7, 'SOLID (1.8 mg / 200 mg KBr)': 7, 'SOLID (1.5 mg / 100 mg KBr PELLET)': 6, 'SOLID (SPLIT MULL), FLUOROLUBE FOR 3800-1335 CM^-^1, NUJOL FOR 1335-460 CM^-^1': 6, 'SOLID (1 mg / 100 mg KBr DISC)': 6, 'SOLID (SPLIT MULL, FLUOROLUBE FOR 3800-1333 AND NUJOL FOR 1333-400 CM ^-^1)': 6, 'SOLID (1.2 mg / 650 mg KBr DISC)': 6, 'SOLID (MULL, KEL-F OIL FOR 2-7.5 AND MINERAL OIL FOR 7.5-16 MICRONS)': 5, 'SOLUTION (2% CCl4 FOR 5000-1330, 2% CS2 FOR 1330-625 CM^-^1)': 5, 'SOLID (ARNEEL C MULL)': 5, 'SOLUTION (10% CCl4 FOR 3800-1330, 10% CS2 FOR 1330-400 CM^-^1))': 5, 'SOLID (1 mg / 650 mg, KBr DISC)': 5, 'SOLID (0.8 mg / 650 KBr DISC)': 5, 'SEMI-SOLID (NEAT)': 5, 'SOLID (1 mg / 100 mg, KBr DISC)': 5, 'SOLUTION (10% IN CCl4 FOR 3800-1330, 10% IN CS2 FOR 1330-450 CM^-^1)': 5, 'SOLUTION (10% CCl4 FOR 3800-1335, 10% CS2 FOR 1335-450 CM^-^1)': 5, 'SOLID (1.2 mg / 300 mg KBr DISC)': 5, 'SOLUTION (10% CCl4 FOR 3800-1335, 10% CS2 FOR 1335-400 CM^-^1) VS SOLVENT': 5, 'SOLUTION (10% CCl4 FOR 3800-400 CM^-^1)': 5, 'SOLID (0.9 mg / 650 mg, KBr DISC)': 5, 'SOLID (2 mg / 100 mg KBr)': 5, 'SOLUTION (10% CCl4 FOR 2.6-7.5, 10% CS2 FOR 7.5-22 MICRON)': 5, 'SOLID (1.9 mg / 100 mg KBr)': 5, 'SOLID (2.0 mg / 100 mg KBr)': 4, 'SOLID (COCONITRILE MULL)': 4, 'SOLUTION (SATURATED IN HEPTANE)': 4, 'SOLUTION (10% IN CCl4 FOR 3800-1300, 10% IN CS2 FOR 1300-650, AND 10% IN CCl4 FOR 650-250 CM^-^1) VERSUS SOLVENT': 4, 'SOLID (0.8 mg / 300 mg CsI PELLET)': 4, 'SOLID (0.8 mg / 300 mg CsI DISC)': 4, 'SOLID (KCl DISC)': 4, 'SOLID (1 mg / 200 mg KCl DISC)': 4, 'SOLID (1.5 mg / 300 mg KBr DISC)': 4, 'SOLID (NUJOL MULL) VS NUJOL': 4, 'SOLUTION (10% CCl4 FOR 3800-1300, 2% CS2 FOR 1300-650, AND 10% CCl4 FOR 650-250) VS SOLVENT': 4, 'SOLID (0.8 mg / 650 mg, KBr DISC)': 4, 'SOLUTION (7% IN CHCl3 FOR 2.5-12.5 MICRON) VS. SOLVENT': 4, 'SOLUTION (10% CCl4 FOR 3800-1330, 10% CS2 FOR 1330-450)': 4, 'SOLUTION (10% IN CCl4 FOR 3800-1300, 2% IN CS2 FOR 1300-650, AND 10% IN CCl4 FOR 650-250 CM^-^1)': 4, 'SOLUTION (10% CCl4 FOR 3800-1333, 10% CS2 FOR 1333-440 CM^-^1)': 4, 'LIQUID (UNDILUTED)': 4, 'SOLUTION (10% IN CCl4 FOR 3800-1330 AND 10% IN CS2 FOR 1330-400 CM^-^1)': 4, 'SOLUTION (10% CCl4 FOR 3800-1300, 2% CS2 FOR 1300-650, AND 10% CCl4 FOR 650-260) VS SOLVENT': 4, 'SOLUTION (10% CCl4 FOR 3800-1335, 10% CS2 FOR 1335-460 CM^-^1)': 4, 'SOLID (0.5% KBr PELLET)': 4, 'SOLID (1.7 mg / 200 mg KBr)': 4, 'SOLUTION (10% CCl4 FOR 3800-1330, 10% CS2 FOR 1330-470 CM^-^1) VS SOLVENT': 4, 'VAPOR AT 30 mmHg PRESSURE; $$ RESEARCH PURITY': 3, 'SOLID (0.5 mg / 300 mg CsI PELLET)': 3, 'SOLID (0.3 mg / 300 mg CsI PELLET)': 3, 'SOLID (1 mg / 300 mg CsI DISC)': 3, 'SOLUTION 7% (CHCl3 FOR 2-15 microns)': 3, 'SOLID (1 mg / 300 mg KBr DISC)': 3, 'SOLID (KBr DISC, 1% WT.)': 3, 'SOLID (2 mg / 200 mg (1%) KBr DISC)': 3, 'SOLID (SPLIT MULL, FLUOROLUBE FOR 3800-1330 AND NUJOL FOR 1330-460 CM ^-^1)': 3, 'SOLID (SPLIT MULL, FLUOROLUBE FOR 3800-1340 AND NUJOL FOR 1340-470 CM ^-^1)': 3, 'SOLUTION (5% IN CCl4 FOR 3800-1300, 5% IN CS2 FOR 1300-650, AND 5% IN CCl4 FOR 650-240 CM^-^1) VERSUS SOLVENT': 3, 'SOLUTION (1% CCl4 FOR 3800-1330, 1% CS2 FOR 1330-400 CM^-^1)': 3, 'SOLUTION (10% IN CCl4 FOR 3800-1333 AND 10% IN CS2 FOR 1333-400 CM^-^1)': 3, 'SOLUTION (10% IN CCl4 FOR 3800-1333 AND 10% IN CS2 FOR 1333-440 CM^-^1) VS. SOLVENT': 3, 'SOLUTION (1% CCl4 FOR 5000-1330, 1% CS2 FOR 1330-625 CM^-^1)': 3, 'SOLUTION (11% CCl4 FOR 3800-1300, 10% CS2 FOR 1300-650, AND 11% CCl4 FOR 650-250)': 3, 'SOLUTION (10% CCl4 FOR 4000-1200, 10% CS2 FOR 1200-450 CM^-^1) VS SOLVENT': 3, 'SOLUTION (5% CCl4 FOR 3800-1330, 5% CS2 FOR 1330-460 CM^-^1)': 3, 'SOLID (SPLIT MULL), FLUOROLUBE FOR 3800-1335 CM^-^1, NUJOL FOR 1335-450 CM^-^1': 3, 'SOLID (1.0% KBr PELLET)': 3, 'SOLUTION 7% (CHCl3)': 3, 'SOLID (NUJOL)': 3, 'SOLUTION (11% CCl4 FOR 3800-1300, 2% CS2 FOR 1300-650, AND 11% CCl4 FOR 650-250)': 3, 'SOLUTION (11% CCl4 FOR 3800-1300, 11% CS2 FOR 1300-650, AND 11% CCl4 FOR 650-250)': 3, 'SOLUTION (11% CCl4 FOR 3800-1300, 3% CS2 FOR 1300-650, AND 11% CCl4 FOR 650-250)': 3, 'SOLUTION (10% IN CCl4 FOR 4000-1330 CM^-^1, 10% IN CS2 FOR 1330-600 CM^-^1)': 3, 'SOLUTION (10% CCl4 FOR 3800-1333, 10% CS2 FOR 1333-450 CM^-^1)': 3, 'SOLID (MULL, KBr DISC)': 3, 'SOLUTION (100 g/L IN HEPTANE)': 3, 'SOLUTION (50 g/L IN HEPTANE)': 3, 'SOLUTION (10% CCl4 FOR 2-7.6, 10% CS2 FOR 7.6-15.9 MICRON)': 3, 'SOLUTION (10% IN CCl4 FOR 3800-1330, 10% IN CS2 FOR 1330-460 CM^-^1)': 3, 'SOLUTION (5% CCl4 FOR 3800-1330, 5% CS2 FOR 1330-400 CM^-^1)': 3, 'SOLUTION (5% CHCl3)': 3, 'SOLID (1.3 mg / 650 mg KBr DISC)': 3, 'SOLID (SPLIT MULL, FLUOROLUBE FOR 3800-1333 AND NUJOL FOR 1333-460 CM ^-^1)': 3, 'SOLUTION (10% IN CCl4 FOR 3800-1300, 10% IN CS2 FOR 1300-650, 10% IN CCl4 FOR 650-250 CM^-^1) VERSUS SOLVENT': 3, 'SOLID (1.6 mg / 100 mg KBr)': 3, 'SOLID (1.5 mg / 200 mg KBr)': 3, 'SOLID (1.7 mg / 100 mg KBr)': 3, 'SOLUTION (2.2% IN CS2)': 2, 'SOLID (MINERAL OIL MULL, AFTER ETHANOL PPTN.)': 2, 'SOLID (DRY POWDER)': 2, 'SOLUTION (3% CHCl3)': 2, 'SOLID (MINERAL OIL MULL OF CS2 INSOLUBLES)': 2, 'SOLID (KCl PELLET)': 2, 'SOLID (1.3 mg / 400 mg KBr PELLET)': 2, 'SOLUTION (SATURATED IN CCl4 FOR 5000-1350 CM^-^1, SATURATED IN CS2 FOR 1350-625 CM^-^1)': 2, 'SOLUTION (146 g/L IN HEPTANE)': 2, 'SOLID (0.3 mg / 300 mg CsI DISC) PLUS OIL': 2, 'SOLID (1.2 mg / 300 mg CsI PELLET)': 2, 'SOLID (0.6 mg / 300 mg CsI DISC)': 2, 'SOLID (0.4 mg / 300 mg CsI DISC)': 2, 'SOLID (1 MG / 200 mg KBr DISC)': 2, 'SOLID (1.2 mg / 200 mg KBr DISC)': 2, 'SOLID (MULL, KBr PLATES)': 2, 'SOLID (OIL MULL, CsBr PLATES)': 2, 'SOLUTION (10% IN CCl4 FOR 3800-1330 CM^-^1, 10% IN CS2 FOR 1330-460 CM^-^1) VS. SOLVENT': 2, 'SOLID (0.5 mg / 650 mg, KBr DISC)': 2, 'SOLID (NEAT, MELT)': 2, 'SOLID (SPLIT MULL), FLUOROLUBE FOR 3800-1330 CM^-^1, NUJOL FOR 1330-500 CM^-^1': 2, 'VAPOR (15 MICROLITER AT 150 C)': 2, 'GAS (600 mmHg DILUTED TO A TOTAL PRESSURE OF 600 mmHg WITH N2)': 2, 'SOLID (0.75 mg / 650 mg KBr DISC)': 2, 'SOLID (SPLIT MULL), FLUOROLUBE FOR 3800-1330 CM^-^1, NUJOL FOR 1330-400 CM^-^1, VS SCREEN': 2, 'SOLUTION (5% IN CHCl3)': 2, 'SOLUTION (2% CCl4 FOR 3800-1300, 2% CS2 FOR 1300-650, AND 2% CCl4 FOR 650-250)': 2, 'SOLUTION (10% CCl4 FOR 3800-1340, 10% CS2 FOR 1340-435 CM^-^1)': 2, 'SOLUTION (10% CCl4 FOR 2.6-7.5, 10% CS2 FOR 7.5-26)': 2, 'SOLUTION (10% CCl4 FOR 2.0-7.5, 10% CS2 FOR 7.5-16.0 MICRON)': 2, 'SOLUTION (10% CCl4 FOR 3800-400 CM^-^1) VS SOLVENT': 2, 'SOLID (0.7 mg / 650 mg, KBr DISC)': 2, 'SOLID (2.0 mg / 200 mg KBr)': 2, 'SOLID (0.50% IN KBr PELLET)': 2, 'SOLID (0.7 mg / 650 KBr DISC)': 2, 'SOLID (0.9 mg / 650 KBr DISC)': 2, 'SOLID (1.5% IN KBr PELLET)': 2, 'SOLID (0.9 mg / 300 mg KBr DISC)': 2, 'SOLID (0.6 mg / 650 mg, KBr DISC)': 2, 'SOLUTION (5% IN CCl4 FOR 3800-1300, 5% IN CS2 FOR 1300-600, AND 5% IN CCl4 FOR 600-240 CM^-^1) VERSUS SOLVENT': 2, 'SOLID (0.75% IN KBr PELLET)': 2, 'LIQUID (SMEAR)': 2, 'SOLUTION (10% IN CCl4 FOR 3800-1330, 10% IN CS2 FOR 1330-420 CM^-^1) VS. SOLVENT': 2, 'SOLID (1.6 mg / 250 mg KBr DISC)': 2, 'SOLUTION (10% CCl4 FOR 4000-1300, 10% CS2 FOR 1300-480 CM^-^1) VS SOLVENT': 2, 'SOLID(MINERAL OIL MULL)': 2, 'SOLUTION (CS2)': 2, 'SOLID (1.5 mg / 350 mg KBr DISC) VS AIR': 2, 'SOLID (SPLIT MULL), FLUOROLUBE FOR 3800-1340 CM^-^1, NUJOL FOR 1340-400 CM^-^1': 2, 'SOLUTION (10% CCl4 FOR 3800-1300, 10% CS2 FOR 1300-650, AND 10% CCl4 FOR 650-250)': 2, 'SOLID (SPLIT MULL, FLUOROLUBE FOR 3800-1333 AND NUJOL FOR 1333-450 CM ^-^1)': 2, 'SOLUTION (10% IN CCl4 FOR 3800-1333 AND 10% IN CS2 FOR 1333-450 CM^-^1)': 2, 'GAS (80 mmHg, N2 ADDED, TOTAL PRESSURE 600 mmHg)': 2, 'SOLUTION (20% CCl4 FOR 4000-1200, 20% CS2 FOR 1200-450 CM^-^1) VS SOLVENT': 2, 'SOLUTION (0.2 M CHCl3 FOR 2.5-12.5 MICRON) VS SOLVENT': 2, 'SOLUTION (10% IN CCl4 FOR 3800-1340 AND 10% IN CS2 FOR 1340-450 CM^-^1)': 2, 'SOLUTION (CS2) VS. SOLVENT': 2, 'SOLUTION (2% CCl4 FOR 3800-1330, 2% CS2 FOR 1330-400 CM^-^1)': 2, 'SOLUTION (5% CCl4 FOR 3800-1330, 5% CS2 FOR 1330-400)': 2, 'SOLUTION (7% CHCl3 FOR 2.5-15 MICRON) VS SOLVENT': 2, 'SOLUTION (10% CCl4 FOR 3800-1330, 10% CS2 FOR 1330-470 CM^-^1)': 2, 'SOLUTION (10% IN CCl4 FOR 3800-1300, 10% IN CS2 FOR 1300-650, AND 10% IN CCl4 FOR 650-240 CM^-^1) VERSUS SOLVENT': 2, 'SOLUTION (7% CHCl3 FOR 2-15 MICRON) VS SOLVENT': 2, 'SOLID (2.0% IN KBr PELLET)': 2, 'SOLID (1 mg / 650 KBr DISC)': 2, 'SOLID (0.02 MOLAR IN KBr DISC)': 2, 'SOLUTION, SALTED (CCl4 FOR 2.7-7.5, CS2 FOR 7.5-26 MICRON)': 2, 'SOLUTION (10% IN CCl4 FOR 3800-1320, 10% IN CS2 FOR 1320-400 CM^-^1)': 2, 'GAS (200 mmHg DILUTED TO A TOTAL PRESSURE OF 600 mmHg WITH N2)': 2, 'SOLUTION (10% IN CCl4 FOR 4000-1300 CM^-^1, 10% IN CS2 FOR 1300-450 CM^-^1) VS. SOLVENT': 2, 'SOLUTION (10% CCl4 FOR 3800-400 CM^-^1))': 2, 'GAS (10 mmHg, N2 ADDED, TOTAL PRESSURE 600 mmHg)': 2, 'GAS (60 mmHg, N2 ADDED, TOTAL PRESSURE 600 mmHg)': 2, 'SOLUTION (10% CCl4 FOR 2-7.6, 10% CS2 FOR 7.6-16 MICRON)': 2, 'SOLUTION (10% CCl4 FOR 3800-1335, 10% CS2 FOR 1335-460 CM^-^1) VS SOLVENT': 2, 'SOLUTION (10% CCl4 FOR 2-7.5, 10% CS2 FOR 7.5-15.9 MICRON)': 2, 'SOLUTION (2% IN CCl4 FOR 3800-1330, 2% IN CS2 FOR 1330-400 CM^-^1)': 2, 'GAS (100 mmHg DILUTED TO A TOTAL PRESSURE OF 600 mmHg WITH N2)': 2, 'SOLUTION (CS2 FOR 2-15 microns, AND C2Cl4 FOR 5-7.5 microns)': 2, 'SOLUTION (10% IN CCl4 FOR 3800-1340, 10% IN CS2 FOR 1340-400 CM^-^1)': 2, 'SOLUTION (10% CCl4 FOR 2.6-7.5, 10% CS2 FOR 7.5-24)': 2, 'SOLID (1.0 mg / 200 mg KBr DISC)': 2, 'SOLID (1.6 mg / 650 mg KBr DISC)': 2, 'SOLUTION (CS2 FOR 2-15 microns, AND C2Cl4 FOR 5-7.3 microns)': 2, 'SOLUTION (10% IN CCl4 FOR 3800-1330 CM^-^1, 10% IN CS2 FOR 1330-450 CM^-^1)': 2, 'SOLUTION (2% CCl4 FOR 3800-1330, 2% CS2 FOR 1330-450 CM^-^1)': 2, 'SOLUTION (10% CCl4 FOR 3800-1340, 10% CS2 FOR 1340-470 CM^-^1) VS SOLVENT': 2, 'THIN FILM FROM C2HCl3 SOLUTION': 2, 'SOLUTION (5% IN CCl4 FOR 3800-1300, 2% IN CS2 FOR 1300-620, AND 5% IN CCl4 FOR 620-250 CM^-^1) VS. SOLVENT': 2, 'SOLUTION (10% CCl4 FOR 4000-1330, 10% CS2 FOR 1330-450 CM^-^1) VS SOLVENT': 2, 'SOLUTION (10% CCl4 FOR 2.7-7.5, 10% CS2 FOR 7.5-26 MICRON)': 2, 'SOLUTION (10% IN CCl4 FOR 3800-1333, 10% IN CS2 FOR 1333-400 CM^-^1)': 2, 'SOLID (2.2 mg / 100 mg KBr)': 2, 'SOLUTION (1.9% IN CS2)': 1, 'SOLID (0.12% IN KBr PELLET)': 1, 'SOLID (0.14% IN KBr PELLET)': 1, 'SOLID (2.2% KBr PELLET)': 1, 'SOLID (FLUOROLUBE MULL FOR HIGH FREQUENCY REGION AND DRY POWDER FOR LOW FREQUENCY REGION)': 1, 'SOLID (DRY POWDER AND FLUOROLUBE MULL FOR LOW AND HIGH FREQUENCY REGIONS, RESPECTIVELY)': 1, 'SOLID (NUJOL ANF FLUOROLUBE MULLS)': 1, 'SOLUTION (21.2 mg/ml IN 2,2-DIMETHYLBUTANE)': 1, 'VAPOR AT 30 mmHg PRESSURE; $$ B2H6 IMPURITY': 1, 'VAPOR AT 26 mmHg PRESSURE; $$ RESEARCH PURITY': 1, 'VAPOR AT 16 mmHg PRESSURE; $$ RESEARCH PURITY': 1, 'SOLUTION (CS2 SOLUTION VS. SOLVENT); $$ RESEARCH PURITY': 1, 'SOLID (KBr PELLET); $$ RESEARCH PURITY, CONTAINS A SMALL AMOUNT TRIMETHYLAMINE-BORANE': 1, 'SOLUTION (1% CHCl3)': 1, 'SOLID (OIL MULL OF CS2 INSOLUBLES)': 1, 'SOLID (MULLS, FLUOROLUBE FOR 5000-1330 CM^-^1, NUJOL FOR 1330-625 CM^-^1)': 1, 'SOLUTION (9.1% CS2 FOR 5000-2380 AND 1390-625, 9.1% C2Cl4 FOR 2380-1390 CM^-^1)': 1, 'SOLID (SPLIT MULL, HEXACHLOROBUTADIENE FOR 2-6, 6.6-8, 13.2-14.4, AND MINERAL OIL FOR 6-6.6, 8-13.2, 14.4-15.6 MICRONS)': 1, 'SOLID (1.46 mg / 400 mg KBr PELLET)': 1, 'SOLID (MULL IN COCONITRILE)': 1, 'SOLID (1.2 mg / 400 mg KBr PELLET)': 1, 'SOLID (0.99% IN KBr DISC)': 1, 'SOLID (0.7% IN KBr PELLET)': 1, 'SOLID ( MULL;KEL-F FOR 5000-1350 AND MINERAL OIL FOR 1350-625 CM^-^1))': 1, 'SOLID (SPLIT MULL: FLUOROLUBE FOR 3800-1330 CM^-^1, NUJOL FOR 1330-400 CM^-^1)': 1, 'SOLID ( KBr PELLET)': 1, 'SOLUTION (224 g/L IN HEPTANE)': 1, 'SOLUTION (110 g/L IN BENZENE)': 1, 'SOLID (SPLIT MULL: 2.5-7.5 HALOCARBON, 7.5-15.0 NUJOL), INTENSITIES MATCHED': 1, 'SOLID (SPLIT MULL, FLUOROLUBE FOR 3800-1300 AND NUJOL FOR 1300-270 CM ^-^1)': 1, 'SOLID (1 mg / 300 mg CsI PELLET)': 1, 'SOLID (2.5 mg / 300 mg CsI DISC)': 1, 'SOLID (0.7 mg / 300 mg CsI PELLET)': 1, 'SOLID (2 mg / 300 mg CsI DISC)': 1, 'SOLID (1.2 mg / 300 mg CsI DISC)': 1, 'SOLID (1 mg / 125 mg KBr DISC)': 1, 'SOLID (1.4/250 mg KBr DISC)': 1, 'SOLID (1.5 mg / 250 mg KBr DISC)': 1, 'SOLID (1 mg / 250 mg KBr DISC)': 1, 'SOLID (1.6 mg / 200 mg KBr DISC)': 1, 'SOLID (0.9 mg / 200 mg KBr DISC)': 1, 'SOLID (1.01 mg / 201 mg KCl DISC)': 1, 'SOLID (0.72 mg / 200 mg KBr DISC)': 1, 'SOLID (1.03 mg / 200 mg KCl DISC)': 1, 'SOLID (1.05 mg / 200 mg KCl DISC) VS KCl': 1, 'SOLID (1.2 mg / 400 mg KBr DISC)': 1, 'SOLUTION (CCl4 FOR 2-11, CS2 FOR 11-16 MICRON) VS SOLVENT': 1, 'SOLUTION (CCl4 FOR 2-10.6, CS2 FOR 9.6-16 MICRON) VS SOLVENT': 1, 'SOLUTION (10% CCl4 FOR 3800-1320, 10% CS2 FOR 1320-450 CM^-^1)': 1, 'SOLUTION (10% CCl4 FOR 3800-455 CM^-^1) VS SOLVENT': 1, 'SOLID (0.8/650 mg KBr DISC)': 1, 'SOLID (SPLIT MULL, DRY BOX UNDER N2), FLUOROLUBE FOR 3800-1330 CM^-^1, NUJOL FOR 1330-400 CM^-^1': 1, 'SOLID (SPLIT MULL, DRY BOX), FLUOROLUBE FOR 3800-1330 CM^-^1, NUJOL FOR 1330-400 CM^-^1': 1, 'SOLUTION (10% IN CCl4 FOR 4000-1270 CM^-^1, 10% IN CS2 FOR 1270-460 CM^-^1) VS. SOLVENT': 1, 'SOLUTION (10% CCl4 FOR 4000-1300, 10% CS2 FOR 1300-450 CM^-^1) VS SOLVENT': 1, 'SOLUTION (5% CCl4 FOR 3800-1330, 5% CS2 FOR 1330-420 CM^-^1)': 1, 'SOLUTION (9% CCl4 FOR 3800-1300, 10% CS2 FOR 1300-400 CM^-^1)': 1, 'SOLID (0.75 mg / 641 mg KBr DISC)': 1, 'SOLID (1.05 mg / 650 mg KBr DISC)': 1, 'SOLID (0.9 mg / 655 mg KBr DISC)': 1, 'SOLID (1.1 mg / 650 mg KBr DISC) VS. ONE NaCl WINDOW': 1, 'SOLID (0.7 mg / 670 mg KBr DISC)': 1, 'SOLUTION (CCl4 FOR 1-7.5, CS2 FOR 7.5-16 MICRON)': 1, 'SOLID (SPLIT MULL), FLUOROLUBE FOR 3800-1275 CM^-^1, NUJOL FOR 1275-200 CM^-^1': 1, 'SOLUTION (2% CHCl3) VS SOLVENT': 1, 'LIQUID (NEAT': 1, 'SOLUTION (10% CCl4 FOR 3800-1330, SATURATED SOLUTION OF CS2 FOR 1330-670 CM^-^1) VS SOLVENT': 1, 'SOLID (SPLIT MULL); HCB FOR 1-8 MICRON, NUJOL FOR 8-16 MICRON': 1, 'SOLUTION, SALTED (10% CCl4 FOR 2.7-7.5, 10% CS2 FOR 7.5-26 MICRON) VS SOLVENT': 1, 'SOLUTION (10% CCl4 FOR 2.7-26 MICRON)': 1, 'SOLID (0.99 mg / 200 mg KBr DISC)': 1, 'SOLID (KBr)': 1, 'SOLUTION (10% CCl4 FOR 4000-450 CM^-^1) VS SOLVENT': 1, 'SOLID (2.9 mg / 650 mg KBr DISC)': 1, 'SOLUTION (10% IN CCl4 FOR 3800-1300, 5% IN CS2 FOR 1300-650, AND 10% IN CCl4 FOR 650-250 CM^-^1) VS. SOLVENT': 1, 'SOLUTION (10% IN CCl4 FOR 4000-1300, AND 10% IN CS2 FOR 1300-420 CM^-^1) VS. SOLVENT': 1, 'SOLUTION (10% IN CCl4 FOR 3800-1330 AND 10% IN CS2 FOR 1330-420 CM^-^1)': 1, 'SOLUTION (10% IN CCl4 FOR 3800-1330, 10% IN CS2 FOR 1330-400 CM^-^1) VS. SOLVENT': 1, 'SOLUTION (2% IN CCl4 FOR 3800-1333, 2% IN CS2 FOR 1333-400 CM^-^1) VS. SOLVENT': 1, 'SOLID (SPLIT MULL, FLUOROLUBE FOR 3800-1340 AND NUJOL FOR 1340-400 CM ^-^1)': 1, 'SOLID (5 mg / 250 mg CsI DISC)': 1, 'GAS (VAPOR PRESSURE OF LIQUID AT ROOM TEMPERATURE)': 1, 'GAS (515 mmHg)': 1, 'SOLUTION (5% IN CCl4 FOR 3800-1310, 2% IN CS2 FOR 1310-630, AND 5% IN CCl4 FOR 630-200 CM^-^1)': 1, 'SOLID (ARNEEL C MULL); COMPENSATED': 1, 'SOLUTION (5% CCl4 FOR 3800-1300, 4% CS2 FOR 1300-650, AND 5% CCl4 FOR 650-250)': 1, 'SOLUTION (2% IN CCl4 FOR 700-500 CM^-^1)': 1, 'SOLID (1.9 mg / 100 mg KBr PELLET)': 1, 'SOLID (SPLIT MULL), FLUOROLUBE FOR 4000-1335 CM^-^1, NUJOL FOR 1335-400 CM^-^1': 1, 'GAS (6 mmHg DILUTED TO A TOTAL PRESSURE OF 600 mmHg WITH N2)': 1, 'SOLID (0.6 mg / 650 KBr DISC)': 1, 'SOLID (0.4 mg / 650 KBr DISC)': 1, 'SOLUTION (10% CCl4 FOR 3800-1330, 10% CS2 FOR 1330-465 CM^-^1)': 1, 'FILM FROM C2HCl3 SOLUTION': 1, 'SOLUTION (CCl4 FOR 2-8.7 MICRONS, CS2 FOR 8.7-16 MICRONS) VS. 0.005 CM SOLVENT': 1, 'SOLUTION (10% IN CCl4 FOR 3800-1300, 3% IN CS2 FOR 1300-650, AND 10% IN CCl4 FOR 650-250 CM^-^1) VS. SOLVENT': 1, 'SOLUTION (6% IN CCl4 FOR 4000-1350 CM^-^1, 6% IN CS2 FOR 1350-600 CM^-^1)': 1, 'SOLID (SPLIT MULL, FLUOROLUBE FOR 3800-1300 AND NUJOL FOR 1300-230 CM ^-^1)': 1, 'SOLUTION (0.2M IN CHCl3 FOR 2.5-12.5 MICRON) VS. SOLVENT': 1, 'SOLUTION (10% IN CCl4 FOR 3800-1330, 10% IN CS2 FOR 1330-450 CM^-^1) VERSUS SOLVENT': 1, 'SOLUTION 5% (CHCl3 FOR 2.5-15 microns)': 1, 'VAPOR (4 MICROLITER AT 150 C)': 1, 'SOLID (1.25 mg / 300 mg KBr DISC)': 1, 'SOLID (0.5% in KBr)': 1, 'LIQUID (SHELL CHEM. CO. COMM.)': 1, 'GAS (100 mmHg DILUTED TO A TOTAL PRESSURE OF 600 mmHg WITH NITROGEN)': 1, 'SOLUTION (5% CCl4 FOR 3800-1300, 2% CS2 FOR 1300-620, AND 5% CCl4 FOR 620-210)': 1, 'SOLUTION (5% IN CCl4 FOR 3800-1275, 2% IN CS2 FOR 1275-608, AND 5% IN CCl4 FOR 608-220 CM^-^1)': 1, 'SOLUTION (12% IN CCl4 FOR 3800-1300, 11% IN CS2 FOR 1300-650, AND 12% IN CCl4 FOR 650-250 CM^-^1)': 1, 'SOLUTION (10% IN CHCl3)': 1, 'SOLUTION, 10% CCl4 FOR 2.7-7.5, 10% CS2 FOR 7.5-26 MICRON) VS SOLVENT': 1, 'SOLID (0.9 mg / 200 mg KCl DISC) VS KCl': 1, 'SOLID (0.7 mg / 650 mg KBr DISC) VS ONE NaCl WINDOW IN BEAM': 1, 'SOLID (SPLIT MULL) NaCl PLATE FOR 3800-1333 CM^-^1, KBr PLATE FOR 1333-400 CM^-^1': 1, 'SOLUTION (9% CS2 FOR 5000-2380 AND 1330-625, 9% C2Cl4 FOR 2380-1330 CM^-^1)': 1, 'SOLUTION (10% CCl4 FOR 2-7.6, 10% CS2 FOR 7.5-16 CM^-^1)': 1, 'SOLUTION (10% CCl4 FOR 3800-1350, 10% CS2 FOR 1350-450 CM^-^1)': 1, 'SOLUTION (5% CCl4 FOR 3800-1300, 6% CS2 FOR 1300-630, AND 5% CCl4 FOR 630-250) VS SOLVENT': 1, 'SOLUTION (SATURATED - NOT FILTERED, CCl4 FOR 5000-1330, CS2 FOR 1330-625 CM^-^1)': 1, 'SOLUTION (11% IN CCl4 FOR 3800-1310, 9% IN CS2 FOR 1310-650, AND 11% IN CCl4 FOR 650-250 CM^-^1)': 1, 'SOLID (0.9 mg / 260 mg KBr DISC) VS SCREEN': 1, 'SOLID (1 mg / 350 mg KBr DISC)': 1, 'SOLUTION, SATURATED AT LESS THAN 10% (CCl4 FOR 3800-1335, CS2 FOR 1335-450 CM^-^1)': 1, 'SOLID (5 mg / 250 mg CsI PELLET)': 1, 'SOLUTION (1% IN CS2)': 1, 'SOLID (SPLIT MULL), FLUOROLUBE FOR 3800-1330 CM^-^1, NUJOL FOR 1330-200 CM^-^1': 1, 'SOLUTION (10% IN CCl4 FOR 5000-1330, 10% IN CS2 FOR 1330-625 CM^-^1)': 1, 'SOLUTION (10% CCl4 FOR 4000-1130, 10% CS2 FOR 1130-450 CM^-^1) VS SOLVENT': 1, 'SOLID (ARNEEL C MULL) ; COMPENSATED': 1, 'SOLUTION 2.3% (CHCl3 FOR 2-12.2 microns)': 1, 'SOLUTION (10% IN CS2)': 1, 'SOLID (1.0 mg / 650 mg FOR 3900-1100 AND 0.5 mg / 650 mg FOR 1100-400 CM^-^1, KBr DISC)': 1, 'SOLUTION (2% CHCl3 FOR 2.5-12 MICRON)': 1, 'SOLUTION (10% IN CCl4 FOR 4000-1150 CM^-^1, 10% IN CS2 FOR 1150-450 CM^-^1) VS. SOLVENT': 1, 'SOLID (1.7 mg / 650 mg KBr DISC)': 1, 'SOLUTION (10% CCl4 FOR 4000-1310, 10% CS2 FOR 1310-450 CM^-^1) VS SOLVENT': 1, 'SOLUTION (9.9% IN CCl4 ) VERSUS SOLVENT': 1, 'SOLID (SPLIT MULL: FLUOROLUBE FOR 3800-1333 CM^-^1, NUJOL FOR 1333-430 CM^-^1)': 1, 'SOLID (1.0 m / 350 mg KBr DISC)': 1, 'SOLUTION (10% IN CCl4 FOR 4000-1330 CM^-^1, 10% IN CS2 FOR 1330-600 CM^-^1) VS. SOLVENT': 1, 'SOLUTION (10% CCl4 FOR 3800-1335, 10% CS2 FOR 1335-430 CM^-^1)': 1, 'SOLUTION (1% IN CCl4 FOR 4000-1300, 1% IN CS2 FOR 1300-200 CM^-^1)': 1, 'SOLID (KBr DISC, 0.8-1% WT)': 1, 'SOLUTION (CCl4 FOR 2-9.5 MICRONS, CS2 FOR 9.5-16 MICRONS) VS. 0.005 CM SOLVENT': 1, 'SOLUTION (CCl4/CsBr FOR 4000-1335, CS2/CsI FOR 1335-623, CCl4/CsBr FOR 623-300 CM^-^1)': 1, 'SOLUTION (CCl4 FOR 3800-1340, CS2 FOR 1340-450 CM^-^1)': 1, 'SOLID (8 mg / 200 mg KBr DISC)': 1, 'LIQUID; $$ RESEARCH PURITY': 1, 'SOLUTION 3% (CHCl3 FOR 2.5-12.5 microns)': 1, 'SOLUTION (10% CCl4 FOR 3800-1330, 10% CS2 FOR 1330-450 CM^-^1) VS SOLVENT': 1, 'SOLUTION (10% CCl4 FOR 3800-1300, 2% CS2 FOR 1300-620, AND 10% CCl4 FOR 620-240) VS SOLVENT': 1, 'SOLUTION (10% CCl4 FOR 3800-1340, 10% CS2 FOR 1340-400) VS SOLVENT': 1, 'SOLID (1.1 mg / 300 mg KBr DISC)': 1, 'SOLUTION 10% (CS2 FOR 2-6.2 AND 7.2-15 microns, AND C2Cl4 FOR 6.2-7.2 microns)': 1, 'SOLUTION, 10% AND 2% (CCl4 FOR 2.7-7.5, CS2 FOR 7.5-26 MICRON) VS SOLVENT': 1, 'SOLID (SPLIT MULL vs. SCREEN), FLUOROLUBE FOR 3800-1330 CM^-^1, NUJOL FOR 1330-400 CM^-^1': 1, 'SOLUTION (20% IN CCl4 FOR 4000-1300, 10% IN CS2 FOR 1300-480 CM^-^1)': 1, 'SOLUTION (10% IN CCl4 FOR 3800-1290, 5% IN CS2 FOR 1300-670, AND 10% IN CCl4 FOR 670-250 CM^-^1)': 1, 'SOLID (CsI PELLET)': 1, 'SOLID (0.8 mg / 300 mg KBr DISC)': 1, 'SOLUTION (2% CCl4 FOR 3800-1330, 2% CS2 FOR 1330-400)': 1, 'SOLUTION (1.3% IN CS2 FOR 2-15, 1.3% IN C2Cl4 FOR 6.1-7.2 MICRONS)': 1, 'SOLID (0.3 mg / 650 mg, KBr DISC)': 1, 'SOLUTION (2.5% IN CCl4 FOR 650-250 CM^-^1)': 1, 'SOLUTION (1% CCl4 FOR 2-7.5, 1% CS2 FOR 7.5-15.9)': 1, 'SOLUTION (10% CS2 FOR 3800-460 CM^-^1)': 1, 'SOLUTION 7% (CHCl3 FOR 2.5-12.5 microns) VS SOLVENT': 1, 'SOLUTION (CCl4 FOR 2-9.2, CS2 FOR 9.2-16 MICRON)': 1, 'SOLID (15 mg / 100 mg KBr)': 1, 'SOLUTION (5% CCl4 FOR 3800-1330, 10% CS2 FOR 1330-400 CM^-^1)': 1, 'SOLUTION (CS2 FOR 2-5, C2Cl4 FOR 5-7.5, AND CS2 FOR 7.5-15 MICRONS)': 1, 'SOLUTION (10% IN CCl4 FOR 3800-1300, 10% IN CS2 FOR 1300-600, AND 10% IN CCl4 FOR 600-250 CM^-^1) VERSUS SOLVENT': 1, 'SOLUTION (20% IN CCl4 FOR 4000-1300 CM^-^1, 20% IN CS2 FOR 1300-450 CM^-^1) VS. SOLVENT': 1, 'SOLUTION (8% CCl4 FOR 3800-1330, 9% CS2 FOR 1330-450 CM^-^1)': 1, 'SOLUTION (5% IN CCl4 FOR 3800-1300, 2% IN CS2 FOR 1300-600, AND 5% IN CCl4 FOR 600-210 CM^-^1)': 1, 'SOLUTION (5% IN CCl4 FOR 3800-1300, 2% IN CS2 FOR 1300-630, AND 5% IN CCl4 FOR 630-220 CM^-^1)': 1, 'SOLID (0.95 mg / 650 mg KBr DISC)': 1, 'SOLID (0.7% KBr PELLET)': 1, 'LIQUID (NEAT, HYGROSCOPIC)': 1, 'SOLUTION (1.3% IN CS2 FOR 2-15, 1.3% IN C2Cl4 FOR 5.2-7.3 MICRONS)': 1, 'SOLUTION (10% CCl4 FOR 2-7.5, 10% CS2 FOR 7.5-16 MICRON)': 1, 'SOLUTION (10% IN CCl4 FOR 3800-1300, 10% IN CS2 FOR 1300-450 CM^-^1)': 1, 'SOLID (SPLIT MULL), FLUOROLUBE FOR 3800-1333 CM^-^1, NUJOL FOR 1333-400 CM^-^1': 1, 'SOLUTION (SALTED IN CCl4 FOR 3800-1340, SALTED IN CS2 FOR 1340-450 CM^-^1)': 1, 'SOLUTION (10% IN CCl4 FOR 3800-1333, 10% IN CS2 FOR 1333-450, AND 10% IN C6H12 FOR 450-200 CM^-^1)': 1, 'SOLUTION (10% CCl4 FOR 3800-1300, 10% CS2 FOR 1300-650, AND 10% CCl4 FOR 650-200)': 1, 'SOLUTION (10% CCl4 FOR 3800-1330, 10% CS2 FOR 1330-350 CM^-^1) VS SOLVENT': 1, 'SOLID (1.3 mg / 200 mg KBr DISC)': 1, 'SOLID (0.6 mg / 300 mg KBr DISC)': 1, 'SOLUTION (1% CCl4 FOR 2-7.6, 1% CS2 FOR 7.6-15.8 MICRON)': 1, 'SOLID(SPLIT MULL)': 1, 'SOLUTION (10% IN CCl4)': 1, 'SOLUTION (10% CCl4 FOR 3800-1300, 2% CS2 FOR 1300-620, AND 10% CCl4 FOR 620-250)': 1, 'SOLUTION (60 g/L IN HEPTANE)': 1, 'SOLUTION (5% IN CCl4 FOR 3800-1300, 2% IN CS2 FOR 1300-630, AND 5% IN CCl4 FOR 630-250 CM^-^1) VS. SOLVENT': 1, 'GAS (40 mmHg, N2 ADDED, TOTAL PRESSURE 600 mmHg)': 1, 'SOLUTION (10% IN CCl4 FOR 3800-1330, AND 10% IN CS2 FOR 1330-400 CM^-^1)': 1, 'SOLUTION (7% IN CHCl3 FOR 2.5-13 MICRON) VS. SOLVENT': 1, 'SOLID (0.8 mg / 259 mg, KBr DISC)': 1, 'SOLUTION (11% CCl4 FOR 3800-1300, 2% CS2 FOR 1300-650, AND 11% CCl4 FOR 650-250) VS SOLVENT': 1, 'SOLUTION (7% CCl4 FOR 3800-1250, 2% CS2 FOR 1250-650, AND 7% CCl4 FOR 650-250)': 1, 'SOLUTION (7% IN CHCl3 FOR 4000-650 CM^-^1) VS. SOLVENT': 1, 'SOLID (1.4 mg / 212 mg KBr DISC) VS. KBr': 1, 'SOLID (SPLIT MULL VS SCREEN), FLUOROLUBE FOR 3800-1330 CM^-^1, NUJOL FOR 1330-400 CM^-^1': 1, 'SOLUTION (9% CCl4 FOR 3800-1300, 2% CS2 FOR 1300-630, AND 9% CCl4 FOR 630-250) VS SOLVENT': 1, 'SOLUTION (10% IN CCl4 FOR 3800-1330,AND 10% IN CS2 FOR 1330-400 CM^-^1) VERSUS SOLVENT': 1, 'SOLID (SPLIT MULL) DRY BOX, N2 ATMOSPHERE': 1, 'SOLUTION, SATURATED (CCl4 FOR 3800-1350, CS2 FOR 1350-400)': 1, 'SOLUTION (2% CCl4 FOR 2-7.5, 2% CS2 FOR 7.5-16.0 MICRON) VS SOLVENT': 1, 'SOLUTION (20% CCl4 FOR 4000-1300, 20% CS2 FOR 1300-480 CM^-^1) VS SOLVENT': 1, 'GAS (10 mmHg DILUTED TO A TOTAL PRESSURE OF 600 mmHg WITH N2)': 1, 'SOLID (OIL MULL, KRS-5 PLATES)': 1, 'SOLUTION (11% CCl4 FOR 3800-1280, 3% CS2 FOR 1280-620, AND 11% CCl4 FOR 620-240) VS SOLVENT': 1, 'SOLUTION (10% CCl4 FOR 3800-1300, 2% CS2 FOR 1300-650, AND 10% CCl4 FOR 650-240) VS SOLVENT': 1, 'SOLUTION (5% IN CCl4 FOR 3800-1300, 2% IN CS2 FOR 1300-600, AND 5% IN CCl4 FOR 600-250 CM^-^1) VS. SOLVENT': 1, 'SOLUTION (8% CCl4 FOR 3800-1330, 8% CS2 FOR 1330-400 CM^-^1)': 1, 'SOLUTION (6% IN CCl4 FOR 3800-1260, 2% IN CS2 FOR 1260-630, AND 6% IN CCl4 FOR 630-250 CM^-^1)': 1, 'SOLUTION (10% CCl4 FOR 3800-1330, 10% AND 2% CS2 FOR 1330-400 CM^-^1)': 1, 'MELTED BETWEEN KBr PLATES': 1, 'SOLUTION (10% CCl4 FOR 3800-900, 2% CS2 FOR 900-640, AND 10% CCl4 FOR 650-250)': 1, 'SOLUTION (11% IN CCl4 FOR 3800-1300, 11% IN CS2 FOR 1300-650, AND 11% IN CCl4 FOR 650-250 CM^-^1)': 1, 'SOLUTION (6% IN CCl4 FOR 3800-1000, 5% IN CS2 FOR 1100-550, AND 6% IN CCl4 FOR 550-250 CM^-^1)': 1, 'SOLUTION (11% CCl4 FOR 3800-1300, 3% CS2 FOR 1300-650, AND 11% CCl4 FOR 650-250) $$ 99% PURE BY GLC': 1, 'SOLUTION (10% CCl4 FOR 3800-1300, 2% CS2 FOR 1300-600, AND 10% CCl4 FOR 600-250)': 1, 'VAPOR AT 100 mmHg PRESSURE; $$ PURITY 96+%': 1, 'SOLUTION (10% CCl4 FOR 3800-1300, 3% CS2 FOR 1300-650, AND 10% CCl4 FOR 650-250)': 1, 'LIQUID(NEAT)': 1, 'SOLUTION (10% CCl4 FOR 3800-1330, 9.5% CS2 FOR 1330-460 CM^-^1)': 1, 'SOLUTION (SATURATED IN CS2 FOR 3800-450 CM^-^1)': 1, 'SOLUTION (6% IN CCl4 FOR 3800-1300, 2% IN CS2 FOR 1300-650, AND 6% CCl4 FOR 650-240 CM^-^1) VERSUS SOLVENT': 1, 'GAS (100 mmHg DILUTED TO ATMOSPHERIC PRESSURE WITH N2)': 1, 'SOLUTION (10% CCl4 FOR 3800-1300, 3% CS2 FOR 1300-600, AND 10% CCl4 FOR 600-250) VS SOLVENT': 1, 'SOLUTION (10% IN CCl4 FOR 3800-1340, 10% IN CS2 FOR 1340-450 CM^-^1)': 1, 'SOLID (1.1 mg / 350 mg KBr DISC)': 1, 'SOLUTION (CCl4 FOR 4000-1330 CM^-^1, CS2 FOR 1330-600 CM^-^1) VS. SOLVENT': 1, 'SOLUTION (0% CCl4 FOR 2.7-7.5, 10% CS2 FOR 7.5-26 MICRON) VS SOLVENT': 1, 'GAS AT 50 mmHg PRESSURE; $$ PURITY 98+%': 1, 'SOLUTION (5% CHCl3 FOR 2.5-15 MICRON) VS SOLVENT': 1, 'SOLUTION (10% CCl4 FOR 2.6-7.5, 10% CS2 FOR 7.5-25 MICRON)': 1, 'SOLUTION (10% IN CCl4 FOR 3800-1333 AND 10% IN CS2 FOR 1333-450 CM^-^1) VS. SOLVENT': 1, 'SOLID (SPLIT MULL, FLUOROLUBE FOR 3800-1300 AND NUJOL FOR 1300-460 CM ^-^1)': 1, 'SOLID (1.5%, KBr DISC)': 1, 'SOLUTION 7% (CHCl3 FOR 2.5-12.6 microns)': 1, 'SOLUTION (6% IN CCl4 FOR 3800-1300, 3% IN CS2 FOR 1300-550, AND 6% IN CCl4 FOR 550-250 CM^-^1) VS. SOLVENT': 1, 'SOLUTION (9.1% CS2 FOR 5000-2380 AND 1330-625, 9.1% C2Cl4 FOR 2380-1330 CM^-^1)': 1, 'SOLUTION (10% IN CCl4 FOR 3800-1270, 2% IN CS2 FOR 1270-650, AND 8% IN CCl4 FOR 650-250 CM^-^1) VS. SOLVENT': 1, 'SOLUTION (5% IN CCl4 FOR 3800-1210, 2% IN CS2 FOR 1300-550, AND 5% IN CCl4 FOR 600-250 CM^-^1)': 1, 'SOLUTION (10% IN CCl4 FOR 3800-1330 AND 10% IN CS2 FOR 1330-460 CM^-^1)': 1, 'SOLUTION 7% (CHCl3 FOR 2-12.4 microns)': 1, 'SOLUTION (10% IN CCl4 FOR 3800-1340, 10% IN CS2 FOR 1340-460 CM^-^1)': 1, 'SOLUTION (6% IN CCl4 FOR 3800-1300, 2% IN CS2 FOR 1300-650, AND 6% IN CCl4 FOR 650-250 CM^-^1)': 1, 'GAS (106 mmHg, N2 ADDED, TOTAL PRESSURE 600 mmHg)': 1, 'SOLID (1.3 mg / 210 mg CsI DISC)': 1, 'SOLUTION 5% (CHCl3 FOR 2.5-12.5 microns)': 1, 'SOLUTION (8.4% CS2 FOR 5000-2380 AND 1390-625, 8.4% C2Cl4 FOR 2380-1390 CM^-^1)': 1, 'SOLUTION (10% CCl4 FOR 3800-1330, 10% CS2 FOR 1330-400, 2% CCl4 FOR 3200-2700 CM^-^1)': 1, 'SOLUTION (10% IN CCl4 FOR 3800-400 CM^-^1)': 1, 'SOLID (KBr DISC) VS KCl': 1, 'SOLUTION (10% CCl4 FOR 3800-1325, 10% CS2 FOR 1325-400 CM^-^1)': 1, 'SOLUTION (9% IN CCl4 FOR 3800-1300, 9% IN CS2 FOR 1300-620, 9% IN CCl4 FOR 620-300 CM^-^1) VERSUS SOLVENT': 1, 'SOLID (KBr DISC, 0.8 and 0.2% WT.)': 1, 'SOLID (0.95 mg / 653 mg KBr)': 1, 'SOLUTION (SATURATED IN CCl4 FOR 5000-1300, SATURATED IN CS2 FOR 1300-625 CM^-^1)': 1, 'VAPOR AT 15 mmHg PRESSURE; $$ RESEARCH PURITY': 1, 'SOLUTION (2.1% IN CS2)': 1, 'SOLUTION (CCl4 FOR 4000-1320, CS2 FOR 1320-450 CM^-^1) VS SOLVENT': 1, 'SOLUTION (6% IN CCl4 FOR 3800-1320, 3% IN CS2 FOR 1320-630, AND 6% IN CCl4 FOR 630-220 CM^-^1)': 1, 'SOLID (SPLIT MULL: FLUOROLUBE FOR 3800-1330 CM^-^1, MINERAL OIL FOR 1330-400 CM^-^1)': 1, 'SOLUTION (CHCl3) VS SOLVENT': 1, 'SOLUTION (1% CCl4 FOR 3800-1330, 1% CS2 FOR 1330-450 CM^-^1)': 1, 'SOLUTION (10% IN CCl4 FOR 3800-1300, 10% IN CS2 FOR 1300-650, AND 10% CCl4 FOR 650-250 CM^-^1) VERSUS SOLVENT': 1, 'SOLUTION (10% IN CCl4 FOR 3800-1340, AND 10% IN CS2 FOR 1340-450 CM^-^1)': 1, 'SOLID (MULL, KEL-F OIL FOR 2-7.4 AND MINERAL OIL FOR 7.4-16 MICRONS))': 1, 'SOLUTION (11% CCl4 FOR 3800-1300, 11% CS2 FOR 1300-650, AND 11% CCl4 FOR 650-240) VS SOLVENT': 1, 'SOLID (1.13% IN KBr DISC)': 1, 'SOLUTION (10% IN CCl4 FOR 3800-1300, 2% IN CS2 FOR 1300-650, AND 10% IN CCl4 FOR 650-280 CM^-^1) VS. SOLVENT': 1, 'SOLUTION (10% CCl4 FOR 3800-1330, 10% CS2 FOR 1330-455 CM^-^1)': 1, 'SOLID (0.7 mg / 625 mg, KBr DISC)': 1, 'SOLUTION (10% IN CCl4 FOR 3800-1300, 10% IN CS2 FOR 1300-620, AND 10% CCl4 FOR 620-240 CM^-^1) VERSUS SOLVENT': 1, 'SOLUTION 1% (CS2 FOR 2-5.5 AND 7.2-15.3 microns, AND C2Cl4 FOR 5.5-7.2 microns)': 1, 'SOLUTION (CCl4 FOR 2-10 MICRONS, CS2 FOR 10-16 MICRONS) VS. 0.005 CM SOLVENT': 1, 'GAS (2.1 mmHg DILUTED TO A TOTAL PRESSURE OF 600 mmHg WITH N2)': 1, 'SOLID (0.8 m / 650 mg KBr DISC)': 1, 'SOLUTION (0.2 M CHCl3 FOR 2.5-15 MICRON) VS SOLVENT': 1, 'SOLID (0.8 mg / 230 mg, KBr DISC) VS. SCREEN': 1, 'SOLUTION 7% (CHCl3 FOR 2.512.5 microns)': 1, 'SOLID (1.3 mg / 300 mg KBr DISC)': 1, 'SOLUTION (20% IN CCl4 FOR 4000-1320, 20% IN CS2 FOR 1320-450 CM^-^1) VS. SOLVENT': 1, 'SOLID (SPLIT MULL), FLUOROLUBE FOR 3800-1340 CM^-^1, NUJOL FOR 1340-465 CM^-^1': 1, 'SOLUTION (5% CCl4)': 1, 'SOLUTION (5% CCl4 FOR 3800-1335, 5% CS2 FOR 1335-400)': 1, 'SOLUTION (10% CCl4 FOR 2.6-7.5, 10% CS2 FOR 7.5-24 MICRON)': 1, 'SOLUTION 0.75% (CS2 FOR 2-6.2 AND 7.2-15 microns, AND C2Cl4 FOR 6.2-7.2 microns)': 1, 'SOLUTION (5% CCl4 FOR 3800-1300, 2% CS2 FOR 1300-600, AND 5% CCl4 FOR 600-240) VS SOLVENT': 1, 'SOLID (SPLIT MULL: FLUOROLUBE FOR 3800-1330 CM^-^1, NUJOL FOR 1330-450 CM^-^1)': 1, 'SOLUTION (10% CCl4 FOR 3800-1300, 11% CS2 FOR 1300-630, AND 10% CCl4 FOR 630-250) VS SOLVENT': 1, 'SOLID (0.8 mg / 230 mg KBr DISC)': 1, 'SOLUTION 1% (CS2 FOR 2-15 microns, AND C2Cl4 FOR 6-7.2 microns)': 1, 'SOLUTION (15% CHCl3)': 1, 'SOLID (SPLIT MULL, FLUOROLUBE FOR 3800-1340 AND NUJOL FOR 1340-480 CM ^-^1)': 1, 'SOLUTION (2% CCl4 FOR 3800-1330, 2% CS2 FOR 1330-440 CM^-^1)': 1, 'SOLID (KBr PELLET); $$ RECRYSTALLIZED FROM TOLUENE, CONTAINS 5% CIS ISOMER': 1, 'SOLUTION (10% CCl4 FOR 3800-450 CM^-^1)': 1, 'SOLUTION (5% CCl4 FOR 2.5-7.5, 5% CS2 FOR 7.5-15 MICRON)': 1, 'SOLUTION (10% CCl4 FOR 3800-1340, 10% CS2 FOR 1340-460 CM^-^1) VS SOLVENT': 1, 'SOLID (0.86 mg / 300 mg KBr PELLET)': 1, 'SOLID (0.8 MG / 650 mg KBr DISC': 1, 'SOLUTION (CCl4 FOR 2.0-7.5, CS2 FOR 7.5-15.8 MICRON)': 1, 'SOLUTION (10% IN CCl4 FOR 3800-1400, 10% IN CS2 FOR 1400-650, AND 10% IN CCl4 FOR 650-250 CM^-^1) VERSUS SOLVENT': 1, 'SOLUTION (4.7% IN CHCl3)': 1, 'SOLUTION (SATURATED IN CCl4 FOR 3800-1333, SATURATED IN CS2 FOR 1333-450 CM^-^1)': 1, 'SOLUTION (10% IN CCl4 FOR 3800-1333, AND 10% IN CS2 FOR 1333-450 CM^-^1)': 1, 'SOLUTION (5% CCl4 FOR 3800-1300, 3% CS2 FOR 1300-500, AND 5% CCl4 FOR 500-250)': 1, 'SOLUTION (5% CCl4 FOR 3800-1340, 5% CS2 FOR 1340-400 CM^-^1)': 1, 'SOLUTION (6% IN CCl4 FOR 3800-1300, 2% IN CS2 FOR 1300-425, AND 6% IN CCl4 FOR 425-250 CM^-^1) VS. SOLVENT': 1, 'SOLUTION (10% IN CCl4 FOR 4000-1310, LESS THAN 10% IN CS2 FOR 1310-450 CM^-^1) VS. AIR': 1, 'SOLUTION (10% IN CCl4 FOR 3800-1333, 10% IN CS2 FOR 1333-430 CM^-^1)': 1, 'SOLUTION (11% CCl4 FOR 3800-1300, 3% CS2 FOR 1300-635, AND 11% CCl4 FOR 635-240) VS SOLVENT': 1, 'SOLUTION (114 g/L IN HEPTANE)': 1, 'SOLUTION (SATURATED IN BENZENE)': 1, 'SOLUTION (15% IN CCl4 FOR 3800-1400, 10% IN CS2 FOR 1400-620, AND 15% IN CCl4 FOR 620-250 CM^-^1)': 1, 'SOLUTION (3.5% CHCl3)': 1, 'SOLID (0.4 mg / 650 mg, KBr DISC)': 1, 'SOLUTION (CCl4 FOR 2-10.5 MICRONS, CS2 FOR 10.5-16 MICRONS) VS. 0.005 CM SOLVENT': 1, 'SOLID (0.45 mg / 650 mg KBr DISC)': 1, 'SOLUTION (SATURATED IN CCl4 FOR 5000-1310 CM^-^1, SATURATED IN CS2 FOR 1310-625 CM^-^1)': 1, 'SOLUTION (9% CHCl3)': 1, 'SOLUTION (10% IN CCl4 FOR 3800-1300, 2% IN CS2 FOR 1300-630, AND 10% IN CCl4 FOR 630-260 CM^-^1) VS. SOLVENT': 1, 'SSOLID (MINERAL OIL MULL)': 1, '': 1, 'SOLUTION (CCl4 FOR 2-9.6, CS2 FOR 9.3-16 MICRON) VS SOLVENT': 1, 'SOLID (SPLIT MULL), FLUOROLUBE FOR 3800-1330 CM^-^1, NUJOL FOR 1330-400 CM^-^1; NUJOL SPECIMEN IS THICKER THAN FLUOROLUBE BY ca. 2X': 1, 'SOLUTION (CS2 FOR 5000-2380 AND 1390-625, C2Cl4 FOR 2380-1390 CM^-^1)': 1, 'GAS (PRESSURE 20 mmHg)': 1, 'SOLUTION (7% IN CCl4 FOR 3800-1300, 3% IN CS2 FOR 1300-650, AND 7% IN CCl4 FOR 650-230 CM^-^1)': 1, 'SOLUTION (10% CCl4 FOR 3800-1300, 10% CS2 FOR 1300-550, AND 10% CCl4 FOR 550-250)': 1, 'SOLUTION (10% IN CCl4 FOR 3800-1500, 2% IN CS2 FOR 1500-650, AND 10% IN CCl4 FOR 650-250 CM^-^1) VS. SOLVENT': 1, 'SOLUTION (10% CCl4 FOR 3800-1300, 3% CS2 FOR 1300-600, AND 10% CCl4 FOR 600-240)': 1, 'SOLUTION (CCl4 FOR 2.0-7.6, CS2 FOR 7.6-16.0 MICRON) VS SOLVENT': 1, 'SOLID (KBr PELLET); $$ RESEARCH PURITY': 1, 'SOLUTION (2% IN CCl4 FOR 3800-1333, 2% IN CS2 FOR 1333-400 CM^-^1)': 1, 'SOLUTION (1.5% CCl4 FOR 3800-1330, 2.0% CS2 FOR 1330-400 CM^-^1)': 1, 'SOLUTION (10% IN CCl4 FOR 3800-1230, 2% IN CS2 FOR 1230-600, AND 10% IN CCl4 FOR 600-240 CM^-^1) VS. SOLVENT': 1, 'SOLUTION (10% IN CCl4 FOR 3800-1300, 2% IN CS2 FOR 1300-600, AND 10% IN CCl4 FOR 600-250 CM^-^1)': 1, 'VAPOR AT 24.5 mmHg PRESSURE; $$ PURITY 95%': 1, 'SOLUTION (CCl4 FOR 4000-1320, CS2 FOR 1320-600 CM^-^1)': 1, 'SOLID (SPLIT MULL), FLUOROLUBE FOR 3800-1330 CM^-^1, NUJOL FOR 1330-400 CM^-^1;': 1, 'VAPOR (13 MICROLITER AT 150 C)': 1, 'SOLUTION (10.3% CCl4 FOR 3800-1300, 10.4% CS2 FOR 1300-260)': 1, 'SOLUTION (10% IN CCl4 FOR 3800-1340 CM^-^1, 10% IN CS2 FOR 1340-600 CM^-^1)': 1, 'SOLUTION (10% IN CCl4 FOR 3800-1330,AND 10% IN CS2 FOR 1330-400 CM^-^1)': 1, 'SOLUTION (7% CHCl3 FOR 2-12.5 MICRON) VS SOLVENT': 1, 'MELT': 1, 'SOLUTION (10% CCl4 FOR 2.0-7.6, 2% CS2 FOR 7.6-16.0 MICRON)': 1, 'SOLUTION (10% IN CCl4 FOR 4000-1200 CM^-^1, 10% IN CS2 FOR 1200-450 CM^-^1) VS. SOLVENT': 1, 'SOLUTION (CCl4 FOR 2.0-7.5, CS2 FOR 7.5-16.0 MICRON) VS SOLVENT': 1, 'GAS (HEATING PARAFORMALDEHYDE; CONCENTRATION UNKNOWN)': 1, 'SOLUTION (10% CCl4 FOR 3800-1330, 10% CS2 FOR 1330-440 CM^-^1)': 1, 'SOLID (SPLIT MULL, FLUOROLUBE FOR 3800-1330 AND NUJOL FOR 1330-450 CM ^-^1)': 1, 'SOLUTION (CS2 FOR 2-15, C2Cl4 FOR 6.1-7.6 MICRONS)': 1, 'SOLID (0.3 mg / 650 KBr DISC)': 1, 'SOLID (SPLIT MULL, FLUOROLUBE FOR 3800-1333, AND NUJOL FOR 1333-400 CM ^-^1)': 1, 'SOLID (1.1 mg / 650 mg KBr DISC)': 1, 'SOLID (SPLIT MULL, FLUOROLUBE FOR 3800-1333 AND NUJOL FOR 1333-330 CM ^-^1)': 1, 'SOLID (MULLS; KEL-F FOR 5000-1350 AND MINERAL OIL FOR 1350-625 CM^-^1)': 1, 'SOLUTION (10% IN CCl4 FOR 3800-1330 CM^-^1, 10% IN CS2 FOR 1330-400 CM^-^1)': 1, 'SOLUTION 1.3% (CS2 FOR 2-15 microns, AND C2Cl4 FOR 5.5-8.7 microns)': 1, 'SOLUTION (10% CCl4 FOR 2-7.6, 10% CS2 FOR 7.6-16 MICRON) VS SOLVENT': 1, 'SOLUTION (7% CHCl3 FOR 2.5-13.2 MICRON) VS SOLVENT': 1, 'SOLUTION (CCl4 FOR 2-9.6, CS2 FOR 8.6-16 MICRON) VS SOLVENT': 1, 'SOLID (1.02 mg / 200 mg KBr DISC)': 1, 'SOLID (SPLIT MULL), FLUOROLUBE FOR 4000-1330 CM^-^1, NUJOL FOR 1330-460 CM^-^1': 1, 'SOLID (KBR DISC)': 1, 'SOLUTION (11% IN CCl4 FOR 3800-1270, 11% IN CS2 FOR 1270-650, AND 11% IN CCl4 FOR 650-250 CM^-^1) VS. SOLVENT': 1, 'SOLID (SPLIT MULL: FLUOROLUBE FOR 3800-1330 CM^-^1, NUJOL FOR 1330-450 CM^-^1), REF. SCREENED FIRST HALF': 1, 'SOLID (1 mg / 400 mg KBr DISC)': 1, 'LIQUID (VISCOUS); $$ RESEARCH PURITY': 1, 'SOLID (1.2% IN KBr PELLET)': 1, 'SOLUTION (10% CCl4 FOR 3800-1300, 6% CS2 FOR 1300-630, AND 10% CCl4 FOR 630-260) VS SOLVENT': 1, 'SOLUTION (8% CHCl3)': 1, 'SOLID (MELT BETWEEN PLATES)': 1, 'SOLUTION (10% IN CCl4 FOR 3800-1340, 10% IN CS2 FOR 1340-400 CM^-^1) VS. SOLVENT': 1, 'SOLUTION (CCl4 FOR 2-10.2, CS2 FOR 9.3-16 MICRON) VS SOLVENT': 1, 'SOLUTION (5% IN CCl4 FOR 3800-1275, 2% IN CS2 FOR 1275-600, AND 5% IN CCl4 FOR 600-210 CM^-^1)': 1, 'SOLUTION (5% IN CCl4 FOR 3800-1270, 2% IN CS2 FOR 1270-625, AND 5% IN CCl4 FOR 625-210 CM^-^1)': 1, 'SOLUTION (10% CCl4 FOR 3800-1300, 10% CS2 FOR 1300-400 CM^-^1)': 1, 'SOLUTION (10% IN CCl4 FOR 3800-1340 AND 10% IN CS2 FOR 1340-400 CM^-^1)': 1, 'SOLUTION 2% (CHCl3 FOR 2.5-12.5 microns)': 1, 'SOLID (1.8 mg / 650 mg KBr DISC)': 1, 'SOLUTION (10% CCl4 FOR 3800-1300, 2% CS2 FOR 1300-630, AND 10% CCl4 FOR 630-270) VS SOLVENT': 1, 'SOLUTION (5% IN CCl4 FOR 3800-1275, 2% IN CS2 FOR 1275-600, AND 5% IN CCl4 FOR 600-220 CM^-^1)': 1, 'SOLUTION (5% IN CCl4 FOR 3800-1328, 2% IN CS2 FOR 1328-600, AND 5% IN CCl4 FOR 600-250 CM^-^1)': 1, 'SOLUTION (5% CCl4 FOR 2.7-7.5, 5% CS2 FOR 7.5-26 MICRON) VS SOLVENT': 1, 'SOLUTION (CCl4 FOR 3800-1330, CS2 FOR 1330-400 CM^-^1)': 1, 'SOLUTION (11% IN CCl4 FOR 4000-1325, 11% IN CS2 FOR 1325-470 CM^-^1) VS. SOLVENT': 1, 'SOLUTION (5% IN CCl4 FOR 3800-1300, 2% IN CS2 FOR 1300-650, AND 5% IN CCl4 FOR 650-210 CM^-^1)': 1, 'SOLUTION (10% CCl4 FOR 3800-1340, 10% CS2 FOR 1340-450)': 1, 'SOLID (MELT, COOLED RAPIDLY)': 1, 'SOLUTION (CCl4 FOR 2-10.9, CCl4 FOR 5.7-7.8, AND CS2 FOR 9.6-16 MICRON)': 1, 'SOLID (KBr DISC), CsI DISC FOR 400-50 CM^-^1': 1, 'SOLID (OIL MULL, BETWEEN KBr DISCS)': 1, 'SOLID (0.95 mg / 200 mg KBr DISC) VS KBr': 1, 'SOLUTION 1.3% (CS2 FOR 2-15 microns, AND C2Cl4 FOR 5-7.2 microns)': 1, 'SOLUTION (7.5% CHCl3)': 1, 'SOLID (SPLIT MULL: FLUOROLUBE FOR 3800-1333 CM^-^1, NUJOL FOR 1333-450 CM^-^1)': 1, 'SOLUTION (10% CCl4 FOR 2-7.6, SATURATED-LESS THAN 10% -NaCl ADDED CS2 FOR 7.4-16)': 1, 'SOLUTION 1% (CS2 FOR 2-6.2 AND 7.2-15 microns, AND C2Cl4 FOR 6.2-7.2 microns)': 1, 'SOLID (1.3 mg / 380 mg KBr DISC)': 1, 'SOLUTION 1% (CS2 FOR 2-15 microns, AND C2Cl4 FOR 5.5-7.2 microns)': 1, 'SOLUTION (CCl4 FOR 2-9.9, CS2 FOR 9.4-16 MICRON) VS SOLVENT': 1, 'SOLUTION (5% CCl4 FOR 3800-1330, 5% CS2 FOR 1330-400 CM^-^1))': 1, 'SOLUTION 1% (CS2 FOR 2-14.9 microns, AND C2Cl4 FOR 3.5-7.4 microns)': 1, 'VAPOR (0.5 MICROLITER AT 150 C)': 1, 'SOLUTION (CS2 FOR 5-15 microns, AND C2Cl4 FOR 2-7.7 microns)': 1, 'SOLUTION (CCl4 FOR 2-10.2, CS2 FOR 9.7-16 MICRON) VS SOLVENT': 1, 'GAS (150 mmHg, N2 ADDED, TOTAL PRESSURE 600 mmHg)': 1, 'SOLID (2.2 mg / 100 mg KBr DISC) VS. KBr': 1, 'SOLUTION (5% IN CCl4 FOR 3800-1300, 3% IN CS2 FOR 1300-635, AND 5% IN CCl4 FOR 635-250 CM^-^1)': 1, 'SOLUTION (10% IN CCl4 FOR 3800-1333, AND 10% IN CS2 FOR 1333-400 CM^-^1)': 1, 'SOLID (0.93 mg / 200 mg KBr DISC)': 1, 'SOLUTION (11% CCl4 FOR 3800-1300, 11% CS2 FOR 1300-600, AND 11% CCl4 FOR 600-250)': 1, 'SOLUTION (SATURATED IN CS2)': 1, 'SOLID (0.75% KBr PELLET)': 1, 'SOLUTION, LESS THAN 10% (CCl4 FOR 3800-1335, CS2 FOR 1335-450 CM^-^1)': 1, 'SOLUTION (10% CCl4 FOR 3800-1340, 10% CS2 FOR 1340-465 CM^-^1) VS SOLVENT': 1, 'SOLID (0.8 mg / 230 mg KBr DISC) VS SCREEN': 1, 'SOLUTION (2% IN CS2)': 1, 'SOLUTION (9.1 CS2 FOR 5000-2380 AND 1390-625, 9.1% C2Cl4 FOR 2380-1390 CM^-^1)': 1, 'SOLUTION (10% CCl4 FOR 3800-1350, 10% CS2 FOR 1350-400)': 1, 'SOLUTION (CCl4 FOR 2-10.4, CS2 FOR 9.7-16 MICRON) VS SOLVENT': 1, 'SOLUTION (1% CS2 FOR 2.6-22)': 1, 'SOLUTION (CCl4 FOR 2-10.4, CS2 FOR 10.4-16 MICRON) VS SOLVENT': 1, 'SOLUTION (5% IN CCl4 FOR 3800-1310, 2% IN CS2 FOR 1310-600, AND 5% IN CCl4 FOR 600-250 CM^-^1) VS. SOLVENT': 1, 'SOLUTION (5% IN CCl4 FOR 3800-1300, 1% IN CS2 FOR 1300-630, AND 5% IN CCl4 FOR 630-290 CM^-^1) VS. SOLVENT': 1, 'SOLUTION (CCl4 FOR 2-9.0, CS2 FOR 9.0-16 MICRON)': 1, 'SOLUTION (11% CCl4 FOR 3800-1300, 2% CS2 FOR 1300-600, AND 11% CCl4 FOR 600-250)': 1, 'SOLUTION (2% CCl4 FOR 4000-1325, 2% CS2 FOR 1325-450 CM^-^1)': 1, 'SOLUTION (10% CCl4 FOR 4000-1340, 10% CS2 FOR 1340-450 CM^-^1) VS SOLVENT': 1, 'SOLUTION (7% IN CHCl3 FOR 2.5-12 MICRON) VS. SOLVENT': 1, 'SOLUTION (10% CCl4 FOR 2.6-7.5, 10% CS2 FOR 7.5-23 MICRON)': 1, 'SOLUTION (10% CCl4 FOR 3800-1330, 10% CS2 FOR 1330-420 CM^-^1)': 1, 'SOLUTION (SATURATED IN CCl4 FOR 3800-1333, SATURATED IN CS2 FOR 1333-440 CM^-^1)': 1, 'SOLUTION, 10% AND 2.5% (CCl4 FOR 2.7-7.5, CS2 FOR 7.5-26 MICRON) VS SOLVENT': 1, 'GAS (30 mmHg DILUTED TO A TOTAL PRESSURE OF 600 mmHg WITH N2)': 1, 'SOLID (5% KBr PELLET)': 1, 'SOLID ( MULL)': 1, 'SOLID (0.30% IN KBr PELLET)': 1, 'SOLID (0.3 mg / 650 mg KBr DISC)': 1, 'SOLUTION (10% IN CCl4 FOR 3800-1400, 10% IN CS2 FOR 1400-650, 10% IN CCl4 FOR 650-420 CM^-^1)': 1, 'SOLID (SPLIT MULL), FLUOROLUBE FOR 4000-1335 CM^-^1, NUJOL FOR 1335-460 CM^-^1': 1, 'SOLID (1.5 mg / 650 mg, KBr DISC)': 1, 'FILM': 1, 'SOLID (CsI DISC)': 1, 'SOLUTION (1% IN CCl4 FOR 5000-1350 CM^-^1, 1% IN CS2 FOR 1350-625 CM^-^1)': 1, 'SOLID (1.3 mg / 650 mg, KBr DISC)': 1, 'SOLID (1/300 mg KBr DISC)': 1, 'SOLUTION (10% IN CCl4 FOR 3800-1300, 10% IN CS2 FOR 1300-450 CM^-^1) VERSUS SOLVENT': 1, 'SOLUTION (10% CCl4 FOR 3800-1300, 11% CS2 FOR 1300-620, AND 10% CCl4 FOR 620-250)': 1, 'SOLUTION (CCl4 FOR 2-11, CS2 FOR 10.8-16 MICRON) VS SOLVENT': 1, 'SOLUTION (5% CCl4 FOR 3800-1330, 5% CS2 FOR 1330-450 CM^-^1)': 1, 'SOLID (1.8 mg / 500 mg KBr DISC)': 1, 'SOLUTION (4% CCl4 FOR 3800-1300, 2% CS2 FOR 1300-600, AND 4% CCl4 FOR 600-250)': 1, 'SOLID (0.8 mg / 200 mg KBr DISC) VS KBr': 1, 'SOLID (1.2 mg / 125 mg KBr DISC)': 1, 'SOLUTION (3.3% CHCl3)': 1, 'SOLUTION (10% CHCl3 FOR 4000-550 CM^-^1) VS SOLVENT': 1, 'SOLUTION (CS2 FOR 3800-400 CM^-^1)': 1, 'GAS (VAPOR)': 1, 'SOLID (0.51 mg / 200 mg KBr DISC)': 1, 'SOLUTION (10% IN CCl4 FOR 3800-1350, 2.5% IN CS2 FOR 1350-600, AND 10% IN CCl4 FOR 600-250 CM^-^1)': 1, 'SOLUTION 5% (CS2 FOR 2-15 microns)': 1, 'SOLID (2.4 mg / 650 mg KBr DISC)': 1, 'SOLUTION (CS2 FOR 2-5 AND 7.3-15 microns, AND C2Cl4 FOR 5-7.3 microns)': 1, 'SOLUTION (12% CCl4 FOR 3800-1300, 2% CS2 FOR 1300-600, AND 12% CCl4 FOR 600-250)': 1, 'SOLUTION (10% CCl4 FOR 4000-1320, 10% CS2 FOR 1320-450 CM^-^1) VS SOLVENT': 1, 'SOLUTION (5% CCl4 FOR 3800-1330, 5% CS2 FOR 1330-460)': 1, 'SOLID (1.8 mg / 360 mg KBr DISC)': 1, 'SOLUTION (1% CCl4 FOR 3800-1330, 1% CS2 FOR 1330-470)': 1, 'SOLUTION (11% IN CCl4 FOR 3800-1300, 3% IN CS2 FOR 1300-620, AND 11% IN CCl4 FOR 620-250 CM^-^1)': 1, 'SOLUTION (10% CCl4 FOR 3800-1340, 10% CS2 FOR 1340-460 CM^-^1)': 1, 'SOLUTION (10% IN CCl4 FOR 3800-1330, 10% IN CS2 FOR 1330-460 CM^-^1) VS. SOLVENT': 1, 'SOLID (KBr DISC, 0.8 WT.)': 1, 'THIN FILM; MELT, COOLED RAPIDLY': 1, 'SOLID (1.4 mg / 350 mg KBr DISC)': 1, 'VAPOR AT 20 mmHg PRESSURE; $$ PURITY 99%': 1, 'SOLUTION (10% CCl4 FOR 3800-1330, 2% CCl4 FOR 1850-1500, AND 10% CS2 FOR 1330-400 CM^-^1)': 1, 'VAPOR AT 36 mmHg PRESSURE': 1, 'SOLID (FROM MELT)': 1, 'GAS (150 mmHg DILUTED TO A TOTAL PRESSURE OF 600 mmHg WITH N2)': 1, 'GAS (200 mmHg DILUTED TO A TOTAL PRESSURE OF 600 mmHg WITH NITROGEN)': 1, 'SOLID (NEAT, HYGROSCOPIC)': 1, 'GAS (180 mmHg PRESSURE)': 1, 'SOLID (SPLIT MULL, FLUOROLUBE FOR 3800-1300 AND NUJOL FOR 1300-400 CM ^-^1)': 1, 'SOLUTION (10% IN CCl4 FOR 3800-1000, 5% IN CS2 FOR 1300-400, AND 10% IN CCl4 FOR 600-210 CM^-^1)': 1, 'SOLID (MULLS, KEL-F OIL FOR 2-7.5 AND MINERAL OIL FOR 7.5-16 MICRONS)': 1, 'GAS (3.5 mL VAPORIZED AT 100 C)': 1, 'SOLUTION (9% CCl4 FOR 3800-1300, 10% CS2 FOR 1300-650, AND 9% CCl4 FOR 650-250)': 1, 'SOLUTION (10% CCl4 FOR 2-7.5, 10% CS2 FOR 7.5-16.0 MICRON)': 1, 'SOLUTION (10% IN CCl4 FOR 3800-1333, AND 10% IN CS2 FOR 1333-440 CM^-^1)': 1, 'SOLUTION (10% IN CCl4 FOR 3800-1340, 10% IN CS2 FOR 1340-470 CM^-^1) VS SOLVENT': 1, 'SOLID (KBr DISC, 0.8, 0.2% WT.)': 1, 'SOLID (1 mg /650 mg KBr DISC)': 1, 'SOLUTION (5% CCl4 FOR 4000-1350, 5% CS2 FOR 1350-450 CM^-^1) VS SOLVENT': 1, 'SOLUTION (5% CCl4 FOR 3800-1300, 2% CS2 FOR 1300-650, AND 5% CCl4 FOR 650-250)': 1, 'SOLUTION UNDER NITROGEN (10% CCl4 FOR 5000-1330, 10% CS2 FOR 1330-625 CM^-^1)': 1, 'SOLUTION (10% CCl4 FOR 4000-1250, 10% CS2 FOR 1270-450 CM^-^1) VS SOLVENT': 1, 'SOLUTION (10% CCl4 FOR 3800-1270, 2% CS2 FOR 1300-650, AND 10% CCl4 FOR 650-280)': 1, 'SOLUTION (10% IN CCl4 FOR 3800-1272, 2% IN CS2 FOR 1272-650, AND 10% IN CCl4 FOR 650-250 CM^-^1)': 1, 'SOLID (0.6 mg / 200 mg KBr DISC)': 1, 'SOLUTION (10% CCl4 FOR 3800-1333, 10% CS2 FOR 1333-400 CM^-^1)': 1, 'SOLUTION (10% IN CCl4 FOR 3800-1250, 2% IN CS2 FOR 1250-650, AND 10% IN CCl4 FOR 650-250 CM^-^1)': 1, 'SOLUTION, SATURATED (CCl4 FOR 3800-1330, CS2 FOR 1330-450 CM^-^1)': 1, 'SOLUTION (11% CCl4 FOR 3800-1300, 3% CS2 FOR 1300-650, AND 11% CCl4 FOR 650-300) VS SOLVENT': 1, 'SOLUTION (5% IN CCl4 FOR 3800-1330, 2% IN CS2 FOR 1330-600, AND 5% IN CCl4 FOR 600-250 CM^-^1) VS. SOLVENT': 1, 'SOLUTION (11% IN CCl4 FOR 3800-1300, 4% IN CS2 FOR 1300-645, AND 11% IN CCl4 FOR 645-250 CM^-^1)': 1, 'SOLUTION (5% IN CCl4 FOR 3800-1274, 2% IN CS2 FOR 1274-600, AND 5% IN CCl4 FOR 600-220 CM^-^1)': 1, 'SOLID (NUJOL OIL MULL)': 1, 'SOLID (SPLIT MULL, FLUOROLUBE FOR 3800-1300 AND NUJOL FOR 1300-250 CM ^-^1)': 1, 'SOLUTION (10% CCl4 FOR 3800-1340, 10% CS2 FOR 1340-480 CM^-^1)': 1, 'SOLID (KBr DISC, GROUND WITH CHCl3)': 1, 'SOLID (COOLED MELT)': 1, 'SOLUTION (CCl4 FOR 3800-2000, CS2 FOR 2000-450 CM^-^1)': 1, 'SOLUTION (10% CCl4 FOR 3800-1335, 10% CS2 FOR 1335-420 CM^-^1)': 1, 'SOLUTION (10% IN CCl4 FOR 4000-1310 CM^-^1, 10% IN CS2 FOR 1310-600 CM^-^1) VS. SOLVENT': 1, 'SOLUTION (CS2 FOR 2-15 microns, AND C2Cl4 FOR 5.5-7.3 microns)': 1, 'SOLUTION (1% IN CCl4 FOR 3800-1333, 1% IN CS2 FOR 1333-450 CM^-^1) VS. SOLVENT': 1, 'GAS (65 mmHg, N2 ADDED, TOTAL PRESSURE 600 mmHg)': 1, 'SOLUTION (10% IN CCl4 FOR 3800-1300, 10% IN CS2 FOR 1300-650, AND 10% IN CCl4 FOR 650-250 CM^-^1)': 1, 'SOLUTION (11% CCl4 FOR 3800-1280, 2% CS2 FOR 1300-650, AND 11% CCl4 FOR 650-250) VS SOLVENT': 1, 'SOLUTION (10% CCl4 FOR 3800-1330, 6% CS2 FOR 1330-450 CM^-^1)': 1, 'SOLUTION (CCl4 FOR 2-10.5, CS2 FOR 10.5-16.0 MICRONS)': 1, 'SOLUTION (CCl4 FOR 2-9.6, CS2 FOR 8.5-16 MICRON) VS SOLVENT': 1, 'SOLID (3 mg / 300 mg KBr PELLET)': 1, 'SOLUTION (CS2 FOR 2-15, C2Cl4 FOR 5-7.2 MICRONS)': 1, 'SOLUTION (2.2% CHCl3)': 1, 'SOLUTION (CCl4 FOR 2-10.1, CS2 FOR 10.1-16 MICRON)': 1, 'SOLUTION (CCl4 FOR 2-9.8, AND CS2 FOR 9.8-16.0 MICRONS) VS. SOLVENT': 1, 'SOLID ( MULL;KEL-F FOR 5000-1330 AND MINERAL OIL FOR 1330-625 CM^-^1))': 1, 'SOLUTION (10% IN CCl4 FOR 3800-1335, 10% IN CS2 FOR 1335-450 CM^-^1)': 1, 'SOLUTION (10% CCl4 FOR 3800-400) VS SOLVENT': 1, 'SOLID (0.95 mg / 655 mg KBr DISC)': 1, 'SOLID (0.3% IN KBr PELLET)': 1, 'SOLUTION (10% IN CCl4 FOR 3800-1330, 10% IN CS2 FOR 1330-440 CM^-^1)': 1, 'SOLUTION (CS2 FOR 2-15 microns, AND C2Cl4 FOR 5-7.1 microns)': 1, 'SOLUTION (20% CCl4 FOR 3900-1300, 20% CS2 FOR 1300-480 CM^-^1) VS SOLVENT': 1, 'SOLID (1.9 mg / 200 mg KBr)': 1, 'SOLUTION (CCl4 FOR 4000-1300, CS2 FOR 1300-450 CM^-^1) VS SOLVENT': 1, 'SOLID (1.4 mg / 200 mg KBr)': 1, 'SOLUTION (CS2 FOR 2-15, C2Cl4 FOR 5-7.5 MICRONS)': 1, 'SOLUTION (CS2 FOR 2-15 microns, AND C2Cl4 FOR 5-7.2 microns)': 1, 'SOLUTION (10% IN CCl4 FOR 3800-1400, 10% IN CS2 FOR 1400-620, AND 10% CCl4 FOR 620-240 CM^-^1) VERSUS SOLVENT': 1, 'SOLUTION 1.3% (CS2 FOR 2-6.2 AND 7.2-15 microns, AND C2Cl4 FOR 6.2-7.2 microns)': 1, 'SOLUTION (CS2 SOLVENT)': 1, 'SOLUTION (CCl4 FOR 5000-1330, CS2 FOR 1330-625 CM^-^1)': 1, 'SOLUTION (10% CCl4 FOR 3800-1333, 10% CS2 FOR 1333-430 CM^-^1)': 1, 'SOLID (0.9 / 650 mg KBr DISC)': 1, 'SOLUTION (10% IN CCl4 FOR 3800-1300, 10% IN CS2 FOR 1300-620, AND 10% CCl4 FPR 620-250 CM^-^1) VERSUS SOLVENT': 1, 'SOLUTION (1.75% CHCl3 FOR 2.5-15 MICRON)': 1, 'SOLID (SEMI-SOLID, NEAT)': 1, 'SOLUTION 3.5% (CS2 FOR 2.5-15 microns)': 1, 'SOLUTION (10% CCl4 FOR 3800-1330, 10% CS2 FOR 1330-440 CM^-^1) VS SOLVENT': 1, 'SOLUTION (CCl4 FOR 2-7.5, CS2 FOR 7.5-16 MICRON) VS SOLVENT': 1, 'SOLUTION (7% CCl4 FOR 3800-650, AND 11% CCl4 FOR 650-250)': 1, 'SOLID (8.0 mg / 400 mg KBr DISC)': 1, 'SOLID (0.02 MOLAR IN KBr PELLET)': 1, 'SOLID (KBr DISC) VS. KBr': 1, 'SOLID (1% KBr DISC)': 1, 'SOLID (SPLIT MULL), FLUOROLUBE FOR 3800-1330 CM^-^1, NUJOL FOR 1330-440 CM^-^1': 1, 'SOLID (1.05 mg / 200 mg KBr DISC)': 1, 'VAPOR AT 55 mmHg PRESSURE; $$ RESEARCH PURITY': 1, 'SOLUTION (10% CCl4 FOR 3800-1300, 11% CS2 FOR 1300-650, AND 10% CCl4 FOR 650-250) VS SOLVENT': 1, 'SOLUTION (1.75% CHCl3 FOR 2.5-12.2 MICRON) VS SOLVENT': 1, 'SOLID (0.9 mg / 649 mg KBr)': 1, 'SOLUTION (5% CCl4 FOR 3800-1330, 5% CS2 FOR 1330-400 CM^-^1) VS SOLVENT': 1, 'GAS (22 mmHg, TO 750 mmHg WITH N2 DILUTION)': 1, 'SOLUTION (11% CCl4 FOR 3800-1300, 5% CS2 FOR 1300-570, AND 11% CCl4 FOR 440-250)': 1})\n"
     ]
    }
   ],
   "execution_count": 6
  },
  {
   "cell_type": "code",
   "metadata": {
    "ExecuteTime": {
     "end_time": "2024-07-28T15:04:04.965348Z",
     "start_time": "2024-07-28T15:03:49.163698Z"
    }
   },
   "source": [
    "datadict = {\"SMILES\": SMILES}\n",
    "for i in range(spectra.shape[1]):\n",
    "    datadict[i] = []\n",
    "for spectrum in spectra:\n",
    "    for i in range(spectra.shape[1]):\n",
    "        datadict[i].append(spectrum[i])\n",
    "\n",
    "dataset = pd.DataFrame(data = datadict)\n",
    "dataset.to_csv(\"NIST Gaseous IR Dataset.csv\")"
   ],
   "outputs": [],
   "execution_count": 7
  },
  {
   "cell_type": "code",
   "metadata": {
    "ExecuteTime": {
     "end_time": "2024-07-28T15:04:05.449375Z",
     "start_time": "2024-07-28T15:04:05.436100Z"
    }
   },
   "source": "",
   "outputs": [],
   "execution_count": 8
  }
 ],
 "metadata": {
  "kernelspec": {
   "display_name": "Python 3.7.12 ('chem_env')",
   "language": "python",
   "name": "python3"
  },
  "language_info": {
   "codemirror_mode": {
    "name": "ipython",
    "version": 3
   },
   "file_extension": ".py",
   "mimetype": "text/x-python",
   "name": "python",
   "nbconvert_exporter": "python",
   "pygments_lexer": "ipython3",
   "version": "3.7.12"
  },
  "metadata": {
   "interpreter": {
    "hash": "fb3e69b1849fbe3db38258675c90eca9b4601c3e4a5f4e71200d2f3e80de7811"
   }
  },
  "orig_nbformat": 2,
  "vscode": {
   "interpreter": {
    "hash": "6a85bb36b4d52f187ae5fc4e581c8672140292eb6cb1dd51f2266bc987f5b6ae"
   }
  }
 },
 "nbformat": 4,
 "nbformat_minor": 2
}
